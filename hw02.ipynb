{
 "cells": [
  {
   "cell_type": "code",
   "execution_count": 23,
   "metadata": {},
   "outputs": [],
   "source": [
    "import pandas as pd\n",
    "import numpy as np\n",
    "import matplotlib.pyplot as plt\n",
    "import seaborn as sns\n",
    "import warnings\n",
    "warnings.filterwarnings('ignore')"
   ]
  },
  {
   "cell_type": "code",
   "execution_count": 3,
   "metadata": {},
   "outputs": [
    {
     "data": {
      "text/html": [
       "<div>\n",
       "<style scoped>\n",
       "    .dataframe tbody tr th:only-of-type {\n",
       "        vertical-align: middle;\n",
       "    }\n",
       "\n",
       "    .dataframe tbody tr th {\n",
       "        vertical-align: top;\n",
       "    }\n",
       "\n",
       "    .dataframe thead th {\n",
       "        text-align: right;\n",
       "    }\n",
       "</style>\n",
       "<table border=\"1\" class=\"dataframe\">\n",
       "  <thead>\n",
       "    <tr style=\"text-align: right;\">\n",
       "      <th></th>\n",
       "      <th>Exam1</th>\n",
       "      <th>Exam2</th>\n",
       "      <th>Admitted</th>\n",
       "    </tr>\n",
       "  </thead>\n",
       "  <tbody>\n",
       "    <tr>\n",
       "      <th>0</th>\n",
       "      <td>34.623660</td>\n",
       "      <td>78.024693</td>\n",
       "      <td>0</td>\n",
       "    </tr>\n",
       "    <tr>\n",
       "      <th>1</th>\n",
       "      <td>30.286711</td>\n",
       "      <td>43.894998</td>\n",
       "      <td>0</td>\n",
       "    </tr>\n",
       "    <tr>\n",
       "      <th>2</th>\n",
       "      <td>35.847409</td>\n",
       "      <td>72.902198</td>\n",
       "      <td>0</td>\n",
       "    </tr>\n",
       "    <tr>\n",
       "      <th>3</th>\n",
       "      <td>60.182599</td>\n",
       "      <td>86.308552</td>\n",
       "      <td>1</td>\n",
       "    </tr>\n",
       "    <tr>\n",
       "      <th>4</th>\n",
       "      <td>79.032736</td>\n",
       "      <td>75.344376</td>\n",
       "      <td>1</td>\n",
       "    </tr>\n",
       "  </tbody>\n",
       "</table>\n",
       "</div>"
      ],
      "text/plain": [
       "       Exam1      Exam2  Admitted\n",
       "0  34.623660  78.024693         0\n",
       "1  30.286711  43.894998         0\n",
       "2  35.847409  72.902198         0\n",
       "3  60.182599  86.308552         1\n",
       "4  79.032736  75.344376         1"
      ]
     },
     "execution_count": 3,
     "metadata": {},
     "output_type": "execute_result"
    }
   ],
   "source": [
    "# Read in the data\n",
    "df = pd.read_csv('hw04_data.csv',names=['Exam1','Exam2','Admitted'])\n",
    "df.head()"
   ]
  },
  {
   "cell_type": "code",
   "execution_count": 49,
   "metadata": {},
   "outputs": [
    {
     "data": {
      "text/plain": [
       "(100, 3)"
      ]
     },
     "execution_count": 49,
     "metadata": {},
     "output_type": "execute_result"
    }
   ],
   "source": [
    "df.shape"
   ]
  },
  {
   "cell_type": "code",
   "execution_count": 4,
   "metadata": {},
   "outputs": [
    {
     "data": {
      "text/plain": [
       "Exam1       float64\n",
       "Exam2       float64\n",
       "Admitted      int64\n",
       "dtype: object"
      ]
     },
     "execution_count": 4,
     "metadata": {},
     "output_type": "execute_result"
    }
   ],
   "source": [
    "# checking for data types\n",
    "df.dtypes"
   ]
  },
  {
   "cell_type": "code",
   "execution_count": 44,
   "metadata": {},
   "outputs": [
    {
     "name": "stdout",
     "output_type": "stream",
     "text": [
      "<class 'pandas.core.frame.DataFrame'>\n",
      "RangeIndex: 100 entries, 0 to 99\n",
      "Data columns (total 3 columns):\n",
      " #   Column    Non-Null Count  Dtype  \n",
      "---  ------    --------------  -----  \n",
      " 0   Exam1     100 non-null    float64\n",
      " 1   Exam2     100 non-null    float64\n",
      " 2   Admitted  100 non-null    int64  \n",
      "dtypes: float64(2), int64(1)\n",
      "memory usage: 2.5 KB\n"
     ]
    }
   ],
   "source": [
    "df.info()"
   ]
  },
  {
   "cell_type": "markdown",
   "metadata": {},
   "source": [
    "## Data Cleaning"
   ]
  },
  {
   "cell_type": "code",
   "execution_count": 45,
   "metadata": {},
   "outputs": [
    {
     "data": {
      "text/plain": [
       "Exam1       0\n",
       "Exam2       0\n",
       "Admitted    0\n",
       "dtype: int64"
      ]
     },
     "execution_count": 45,
     "metadata": {},
     "output_type": "execute_result"
    }
   ],
   "source": [
    "# 1.check for missing values\n",
    "df.isna().sum()"
   ]
  },
  {
   "cell_type": "code",
   "execution_count": 46,
   "metadata": {},
   "outputs": [
    {
     "data": {
      "text/plain": [
       "0"
      ]
     },
     "execution_count": 46,
     "metadata": {},
     "output_type": "execute_result"
    }
   ],
   "source": [
    "# 2. check for duplicates\n",
    "df.duplicated().sum()"
   ]
  },
  {
   "cell_type": "code",
   "execution_count": 47,
   "metadata": {},
   "outputs": [
    {
     "data": {
      "text/plain": [
       "<AxesSubplot:>"
      ]
     },
     "execution_count": 47,
     "metadata": {},
     "output_type": "execute_result"
    },
    {
     "data": {
      "image/png": "[encoded data removed]",
      "text/plain": [
       "<Figure size 720x360 with 1 Axes>"
      ]
     },
     "metadata": {},
     "output_type": "display_data"
    }
   ],
   "source": [
    "# 3. check for outliers\n",
    "df.boxplot(figsize=(10,5))"
   ]
  },
  {
   "cell_type": "code",
   "execution_count": null,
   "metadata": {},
   "outputs": [],
   "source": [
    "# label encoding\n",
    "from sklearn.preprocessing import LabelEncoder\n",
    "le = LabelEncoder()\n",
    "df['Admitted'] = le.fit_transform(df['Admitted'])"
   ]
  },
  {
   "cell_type": "code",
   "execution_count": 50,
   "metadata": {},
   "outputs": [],
   "source": [
    "# splitting the data into X and y\n",
    "X = df.drop(\"Admitted\", axis=1)\n",
    "y = df[\"Admitted\"]"
   ]
  },
  {
   "cell_type": "code",
   "execution_count": 6,
   "metadata": {},
   "outputs": [],
   "source": [
    "# splitting the data into X and y\n",
    "X = df.iloc[:, :-1].values\n",
    "y = df.iloc[:, -1].values"
   ]
  },
  {
   "cell_type": "markdown",
   "metadata": {},
   "source": [
    "## Exploratory Data Analysis"
   ]
  },
  {
   "cell_type": "markdown",
   "metadata": {},
   "source": [
    "## Visualization"
   ]
  },
  {
   "cell_type": "code",
   "execution_count": 7,
   "metadata": {},
   "outputs": [],
   "source": [
    "sns.set_style('darkgrid')"
   ]
  },
  {
   "cell_type": "code",
   "execution_count": 8,
   "metadata": {},
   "outputs": [
    {
     "data": {
      "image/png": "[encoded data removed]",
      "text/plain": [
       "<Figure size 720x720 with 1 Axes>"
      ]
     },
     "metadata": {},
     "output_type": "display_data"
    }
   ],
   "source": [
    "plt.figure(figsize=(10, 10))\n",
    "# Plot the data for the “Not admitted” entries\n",
    "plt.plot(X[y==0, 0], X[y==0, 1], \"bs\", label = \"Not admitted\")\n",
    "# Plot the data for the “Admitted” entries with the style of green triangles.\n",
    "plt.plot(X[y==1, 0], X[y==1, 1], \"g^\", label = \"Admitted\")\n",
    "# You need to complete the code here\n",
    "plt.legend(loc=\"best\")\n",
    "# Add labels for the coordinates\n",
    "plt.xlabel(\"Exam 1 score\", fontsize=14)\n",
    "plt.ylabel(\"Exam 2 score\",fontsize=14)\n",
    "# You need to complete the code here\n",
    "plt.show()\n"
   ]
  },
  {
   "cell_type": "markdown",
   "metadata": {},
   "source": [
    "## checking for class imbalance"
   ]
  },
  {
   "cell_type": "code",
   "execution_count": 9,
   "metadata": {},
   "outputs": [
    {
     "data": {
      "text/plain": [
       "1    60\n",
       "0    40\n",
       "Name: Admitted, dtype: int64"
      ]
     },
     "execution_count": 9,
     "metadata": {},
     "output_type": "execute_result"
    }
   ],
   "source": [
    "df.Admitted.value_counts()"
   ]
  },
  {
   "cell_type": "code",
   "execution_count": null,
   "metadata": {},
   "outputs": [],
   "source": [
    "from imblearn.over_sampling import SMOTE"
   ]
  },
  {
   "cell_type": "code",
   "execution_count": 48,
   "metadata": {},
   "outputs": [],
   "source": [
    "# Oversampling the minority class\n",
    "#sm = SMOTE(random_state=42)\n",
    "#X_train_resampled, y_train_resampled = sm.fit_resample(X, y)"
   ]
  },
  {
   "cell_type": "markdown",
   "metadata": {},
   "source": [
    "## Modelling"
   ]
  },
  {
   "cell_type": "code",
   "execution_count": 13,
   "metadata": {},
   "outputs": [],
   "source": [
    "from sklearn.linear_model import LogisticRegression\n",
    "from sklearn.model_selection import train_test_split"
   ]
  },
  {
   "cell_type": "code",
   "execution_count": 14,
   "metadata": {},
   "outputs": [],
   "source": [
    "# Split the data into training and test sets 80% train data and 20% test data\n",
    "X_train, X_test, y_train, y_test = train_test_split(X, y, test_size=0.2, random_state=42)"
   ]
  },
  {
   "cell_type": "markdown",
   "metadata": {},
   "source": [
    "## Logistic Regression"
   ]
  },
  {
   "cell_type": "code",
   "execution_count": 15,
   "metadata": {},
   "outputs": [
    {
     "data": {
      "text/html": [
       "<style>#sk-container-id-1 {color: black;background-color: white;}#sk-container-id-1 pre{padding: 0;}#sk-container-id-1 div.sk-toggleable {background-color: white;}#sk-container-id-1 label.sk-toggleable__label {cursor: pointer;display: block;width: 100%;margin-bottom: 0;padding: 0.3em;box-sizing: border-box;text-align: center;}#sk-container-id-1 label.sk-toggleable__label-arrow:before {content: \"▸\";float: left;margin-right: 0.25em;color: #696969;}#sk-container-id-1 label.sk-toggleable__label-arrow:hover:before {color: black;}#sk-container-id-1 div.sk-estimator:hover label.sk-toggleable__label-arrow:before {color: black;}#sk-container-id-1 div.sk-toggleable__content {max-height: 0;max-width: 0;overflow: hidden;text-align: left;background-color: #f0f8ff;}#sk-container-id-1 div.sk-toggleable__content pre {margin: 0.2em;color: black;border-radius: 0.25em;background-color: #f0f8ff;}#sk-container-id-1 input.sk-toggleable__control:checked~div.sk-toggleable__content {max-height: 200px;max-width: 100%;overflow: auto;}#sk-container-id-1 input.sk-toggleable__control:checked~label.sk-toggleable__label-arrow:before {content: \"▾\";}#sk-container-id-1 div.sk-estimator input.sk-toggleable__control:checked~label.sk-toggleable__label {background-color: #d4ebff;}#sk-container-id-1 div.sk-label input.sk-toggleable__control:checked~label.sk-toggleable__label {background-color: #d4ebff;}#sk-container-id-1 input.sk-hidden--visually {border: 0;clip: rect(1px 1px 1px 1px);clip: rect(1px, 1px, 1px, 1px);height: 1px;margin: -1px;overflow: hidden;padding: 0;position: absolute;width: 1px;}#sk-container-id-1 div.sk-estimator {font-family: monospace;background-color: #f0f8ff;border: 1px dotted black;border-radius: 0.25em;box-sizing: border-box;margin-bottom: 0.5em;}#sk-container-id-1 div.sk-estimator:hover {background-color: #d4ebff;}#sk-container-id-1 div.sk-parallel-item::after {content: \"\";width: 100%;border-bottom: 1px solid gray;flex-grow: 1;}#sk-container-id-1 div.sk-label:hover label.sk-toggleable__label {background-color: #d4ebff;}#sk-container-id-1 div.sk-serial::before {content: \"\";position: absolute;border-left: 1px solid gray;box-sizing: border-box;top: 0;bottom: 0;left: 50%;z-index: 0;}#sk-container-id-1 div.sk-serial {display: flex;flex-direction: column;align-items: center;background-color: white;padding-right: 0.2em;padding-left: 0.2em;position: relative;}#sk-container-id-1 div.sk-item {position: relative;z-index: 1;}#sk-container-id-1 div.sk-parallel {display: flex;align-items: stretch;justify-content: center;background-color: white;position: relative;}#sk-container-id-1 div.sk-item::before, #sk-container-id-1 div.sk-parallel-item::before {content: \"\";position: absolute;border-left: 1px solid gray;box-sizing: border-box;top: 0;bottom: 0;left: 50%;z-index: -1;}#sk-container-id-1 div.sk-parallel-item {display: flex;flex-direction: column;z-index: 1;position: relative;background-color: white;}#sk-container-id-1 div.sk-parallel-item:first-child::after {align-self: flex-end;width: 50%;}#sk-container-id-1 div.sk-parallel-item:last-child::after {align-self: flex-start;width: 50%;}#sk-container-id-1 div.sk-parallel-item:only-child::after {width: 0;}#sk-container-id-1 div.sk-dashed-wrapped {border: 1px dashed gray;margin: 0 0.4em 0.5em 0.4em;box-sizing: border-box;padding-bottom: 0.4em;background-color: white;}#sk-container-id-1 div.sk-label label {font-family: monospace;font-weight: bold;display: inline-block;line-height: 1.2em;}#sk-container-id-1 div.sk-label-container {text-align: center;}#sk-container-id-1 div.sk-container {/* jupyter's `normalize.less` sets `[hidden] { display: none; }` but bootstrap.min.css set `[hidden] { display: none !important; }` so we also need the `!important` here to be able to override the default hidden behavior on the sphinx rendered scikit-learn.org. See: https://github.com/scikit-learn/scikit-learn/issues/21755 */display: inline-block !important;position: relative;}#sk-container-id-1 div.sk-text-repr-fallback {display: none;}</style><div id=\"sk-container-id-1\" class=\"sk-top-container\"><div class=\"sk-text-repr-fallback\"><pre>LogisticRegression()</pre><b>In a Jupyter environment, please rerun this cell to show the HTML representation or trust the notebook. <br />On GitHub, the HTML representation is unable to render, please try loading this page with nbviewer.org.</b></div><div class=\"sk-container\" hidden><div class=\"sk-item\"><div class=\"sk-estimator sk-toggleable\"><input class=\"sk-toggleable__control sk-hidden--visually\" id=\"sk-estimator-id-1\" type=\"checkbox\" checked><label for=\"sk-estimator-id-1\" class=\"sk-toggleable__label sk-toggleable__label-arrow\">LogisticRegression</label><div class=\"sk-toggleable__content\"><pre>LogisticRegression()</pre></div></div></div></div></div>"
      ],
      "text/plain": [
       "LogisticRegression()"
      ]
     },
     "execution_count": 15,
     "metadata": {},
     "output_type": "execute_result"
    }
   ],
   "source": [
    "# Modelling \n",
    "log_reg =  LogisticRegression(solver='lbfgs')\n",
    "log_reg.fit(X_train, y_train)"
   ]
  },
  {
   "cell_type": "code",
   "execution_count": 28,
   "metadata": {},
   "outputs": [
    {
     "name": "stdout",
     "output_type": "stream",
     "text": [
      "Accuracy: \n",
      " 0.8\n",
      "\n",
      "Confusion Matrix: \n",
      " [[7 1]\n",
      " [3 9]]\n",
      "\n",
      "ROC Curve: \n",
      " <sklearn.metrics._plot.roc_curve.RocCurveDisplay object at 0x7fe138b72a00>\n",
      "\n",
      "ROC AUC Score: \n",
      " 0.8125\n",
      "\n",
      "Classification Report: \n",
      "               precision    recall  f1-score   support\n",
      "\n",
      "           0       0.70      0.88      0.78         8\n",
      "           1       0.90      0.75      0.82        12\n",
      "\n",
      "    accuracy                           0.80        20\n",
      "   macro avg       0.80      0.81      0.80        20\n",
      "weighted avg       0.82      0.80      0.80        20\n",
      "\n"
     ]
    },
    {
     "data": {
      "image/png": "[encoded data removed]",
      "text/plain": [
       "<Figure size 432x288 with 1 Axes>"
      ]
     },
     "metadata": {},
     "output_type": "display_data"
    }
   ],
   "source": [
    "# evaluate the model\n",
    "y_pred = log_reg.predict(X_test)\n",
    "\n",
    "from sklearn.metrics import *\n",
    "\n",
    "# Accuracy\n",
    "print(\"Accuracy: \\n\", accuracy_score(y_test, y_pred))\n",
    "\n",
    "# confusion matrix\n",
    "print(\"\\nConfusion Matrix: \\n\", confusion_matrix(y_test, y_pred))\n",
    "\n",
    "# roc curve\n",
    "print(\"\\nROC Curve: \\n\", plot_roc_curve(log_reg, X_test, y_test))\n",
    "\n",
    "# roc_auc_score\n",
    "print(\"\\nROC AUC Score: \\n\", roc_auc_score(y_test, y_pred))\n",
    "\n",
    "# classification report\n",
    "print(\"\\nClassification Report: \\n\", classification_report(y_test, y_pred))"
   ]
  },
  {
   "cell_type": "markdown",
   "metadata": {},
   "source": [
    "By default, the arrangement of the confusion matrix in sklearn is as follows:<br>\n",
    "$\\begin{bmatrix} TN & FP \\\\ FN & TP \\end{bmatrix}$"
   ]
  },
  {
   "cell_type": "markdown",
   "metadata": {},
   "source": [
    "#### Visualizing the decision boundary"
   ]
  },
  {
   "cell_type": "code",
   "execution_count": 16,
   "metadata": {},
   "outputs": [
    {
     "data": {
      "image/png": "[encoded data removed]",
      "text/plain": [
       "<Figure size 720x720 with 1 Axes>"
      ]
     },
     "metadata": {},
     "output_type": "display_data"
    }
   ],
   "source": [
    "plt.figure(figsize=(10, 10))\n",
    "# Plot the data for the “Not admitted” entries\n",
    "plt.plot(X[y==0, 0], X[y==0, 1], \"bs\", label = \"Not admitted\")\n",
    "# Plot the data for the “Admitted” entries with the style of green triangles.\n",
    "plt.plot(X[y==1, 0], X[y==1, 1], \"g^\", label = \"Admitted\")\n",
    "# You need to complete the code here\n",
    "plt.legend(loc=\"best\")\n",
    "# Add labels for the coordinates\n",
    "plt.xlabel(\"Exam 1 score\")\n",
    "plt.ylabel(\"Exam 2 score\")\n",
    "# You need to complete the code here\n",
    "# visualizing the decision boundary\n",
    "left_right = np.array([20, 100])\n",
    "# If you save your model to a variable other than “log_reg”, you need to update the following command accordingly.\n",
    "boundary = -(log_reg.coef_[0][0] * left_right + log_reg.intercept_[0]) / log_reg.coef_[0][1]\n",
    "plt.plot(left_right, boundary, \"k--\", linewidth=3)\n",
    "plt.show()"
   ]
  },
  {
   "cell_type": "markdown",
   "metadata": {},
   "source": [
    "No the decision boundary does not perfectly separate the two classes. There are some points that are misclassified."
   ]
  },
  {
   "cell_type": "markdown",
   "metadata": {},
   "source": [
    "## Decision Tree"
   ]
  },
  {
   "cell_type": "code",
   "execution_count": 17,
   "metadata": {},
   "outputs": [],
   "source": [
    "from sklearn.tree import DecisionTreeClassifier"
   ]
  },
  {
   "cell_type": "code",
   "execution_count": 18,
   "metadata": {},
   "outputs": [
    {
     "data": {
      "text/html": [
       "<style>#sk-container-id-2 {color: black;background-color: white;}#sk-container-id-2 pre{padding: 0;}#sk-container-id-2 div.sk-toggleable {background-color: white;}#sk-container-id-2 label.sk-toggleable__label {cursor: pointer;display: block;width: 100%;margin-bottom: 0;padding: 0.3em;box-sizing: border-box;text-align: center;}#sk-container-id-2 label.sk-toggleable__label-arrow:before {content: \"▸\";float: left;margin-right: 0.25em;color: #696969;}#sk-container-id-2 label.sk-toggleable__label-arrow:hover:before {color: black;}#sk-container-id-2 div.sk-estimator:hover label.sk-toggleable__label-arrow:before {color: black;}#sk-container-id-2 div.sk-toggleable__content {max-height: 0;max-width: 0;overflow: hidden;text-align: left;background-color: #f0f8ff;}#sk-container-id-2 div.sk-toggleable__content pre {margin: 0.2em;color: black;border-radius: 0.25em;background-color: #f0f8ff;}#sk-container-id-2 input.sk-toggleable__control:checked~div.sk-toggleable__content {max-height: 200px;max-width: 100%;overflow: auto;}#sk-container-id-2 input.sk-toggleable__control:checked~label.sk-toggleable__label-arrow:before {content: \"▾\";}#sk-container-id-2 div.sk-estimator input.sk-toggleable__control:checked~label.sk-toggleable__label {background-color: #d4ebff;}#sk-container-id-2 div.sk-label input.sk-toggleable__control:checked~label.sk-toggleable__label {background-color: #d4ebff;}#sk-container-id-2 input.sk-hidden--visually {border: 0;clip: rect(1px 1px 1px 1px);clip: rect(1px, 1px, 1px, 1px);height: 1px;margin: -1px;overflow: hidden;padding: 0;position: absolute;width: 1px;}#sk-container-id-2 div.sk-estimator {font-family: monospace;background-color: #f0f8ff;border: 1px dotted black;border-radius: 0.25em;box-sizing: border-box;margin-bottom: 0.5em;}#sk-container-id-2 div.sk-estimator:hover {background-color: #d4ebff;}#sk-container-id-2 div.sk-parallel-item::after {content: \"\";width: 100%;border-bottom: 1px solid gray;flex-grow: 1;}#sk-container-id-2 div.sk-label:hover label.sk-toggleable__label {background-color: #d4ebff;}#sk-container-id-2 div.sk-serial::before {content: \"\";position: absolute;border-left: 1px solid gray;box-sizing: border-box;top: 0;bottom: 0;left: 50%;z-index: 0;}#sk-container-id-2 div.sk-serial {display: flex;flex-direction: column;align-items: center;background-color: white;padding-right: 0.2em;padding-left: 0.2em;position: relative;}#sk-container-id-2 div.sk-item {position: relative;z-index: 1;}#sk-container-id-2 div.sk-parallel {display: flex;align-items: stretch;justify-content: center;background-color: white;position: relative;}#sk-container-id-2 div.sk-item::before, #sk-container-id-2 div.sk-parallel-item::before {content: \"\";position: absolute;border-left: 1px solid gray;box-sizing: border-box;top: 0;bottom: 0;left: 50%;z-index: -1;}#sk-container-id-2 div.sk-parallel-item {display: flex;flex-direction: column;z-index: 1;position: relative;background-color: white;}#sk-container-id-2 div.sk-parallel-item:first-child::after {align-self: flex-end;width: 50%;}#sk-container-id-2 div.sk-parallel-item:last-child::after {align-self: flex-start;width: 50%;}#sk-container-id-2 div.sk-parallel-item:only-child::after {width: 0;}#sk-container-id-2 div.sk-dashed-wrapped {border: 1px dashed gray;margin: 0 0.4em 0.5em 0.4em;box-sizing: border-box;padding-bottom: 0.4em;background-color: white;}#sk-container-id-2 div.sk-label label {font-family: monospace;font-weight: bold;display: inline-block;line-height: 1.2em;}#sk-container-id-2 div.sk-label-container {text-align: center;}#sk-container-id-2 div.sk-container {/* jupyter's `normalize.less` sets `[hidden] { display: none; }` but bootstrap.min.css set `[hidden] { display: none !important; }` so we also need the `!important` here to be able to override the default hidden behavior on the sphinx rendered scikit-learn.org. See: https://github.com/scikit-learn/scikit-learn/issues/21755 */display: inline-block !important;position: relative;}#sk-container-id-2 div.sk-text-repr-fallback {display: none;}</style><div id=\"sk-container-id-2\" class=\"sk-top-container\"><div class=\"sk-text-repr-fallback\"><pre>DecisionTreeClassifier()</pre><b>In a Jupyter environment, please rerun this cell to show the HTML representation or trust the notebook. <br />On GitHub, the HTML representation is unable to render, please try loading this page with nbviewer.org.</b></div><div class=\"sk-container\" hidden><div class=\"sk-item\"><div class=\"sk-estimator sk-toggleable\"><input class=\"sk-toggleable__control sk-hidden--visually\" id=\"sk-estimator-id-2\" type=\"checkbox\" checked><label for=\"sk-estimator-id-2\" class=\"sk-toggleable__label sk-toggleable__label-arrow\">DecisionTreeClassifier</label><div class=\"sk-toggleable__content\"><pre>DecisionTreeClassifier()</pre></div></div></div></div></div>"
      ],
      "text/plain": [
       "DecisionTreeClassifier()"
      ]
     },
     "execution_count": 18,
     "metadata": {},
     "output_type": "execute_result"
    }
   ],
   "source": [
    "Dtree = DecisionTreeClassifier()\n",
    "Dtree.fit(X_train, y_train)"
   ]
  },
  {
   "cell_type": "code",
   "execution_count": 36,
   "metadata": {},
   "outputs": [
    {
     "name": "stdout",
     "output_type": "stream",
     "text": [
      "Accuracy: \n",
      " 0.8\n",
      "\n",
      "Confusion Matrix: \n",
      " [[7 1]\n",
      " [3 9]]\n",
      "\n",
      "ROC Curve: \n",
      " <sklearn.metrics._plot.roc_curve.RocCurveDisplay object at 0x7fe138c972b0>\n",
      "\n",
      "ROC AUC Score: \n",
      " 0.8125\n",
      "\n",
      "Classification Report: \n",
      "               precision    recall  f1-score   support\n",
      "\n",
      "           0       0.70      0.88      0.78         8\n",
      "           1       0.90      0.75      0.82        12\n",
      "\n",
      "    accuracy                           0.80        20\n",
      "   macro avg       0.80      0.81      0.80        20\n",
      "weighted avg       0.82      0.80      0.80        20\n",
      "\n"
     ]
    },
    {
     "data": {
      "image/png": "[encoded data removed]",
      "text/plain": [
       "<Figure size 432x288 with 1 Axes>"
      ]
     },
     "metadata": {},
     "output_type": "display_data"
    }
   ],
   "source": [
    "# evaluate the model\n",
    "from sklearn.metrics import *\n",
    "y_pred_tree = Dtree.predict(X_test)\n",
    "\n",
    "# Accuracy\n",
    "print(\"Accuracy: \\n\", accuracy_score(y_test, y_pred_tree))\n",
    "\n",
    "# confusion matrix\n",
    "print(\"\\nConfusion Matrix: \\n\", confusion_matrix(y_test, y_pred_tree))\n",
    "\n",
    "# roc curve\n",
    "print(\"\\nROC Curve: \\n\", plot_roc_curve(Dtree, X_test, y_test))\n",
    "\n",
    "# roc_auc_score\n",
    "print(\"\\nROC AUC Score: \\n\", roc_auc_score(y_test, y_pred_tree))\n",
    "\n",
    "# classification report\n",
    "print(\"\\nClassification Report: \\n\", classification_report(y_test, y_pred_tree))"
   ]
  },
  {
   "cell_type": "code",
   "execution_count": 30,
   "metadata": {},
   "outputs": [
    {
     "name": "stdout",
     "output_type": "stream",
     "text": [
      "Fitting 3 folds for each of 108 candidates, totalling 324 fits\n",
      "[CV] END criterion=gini, max_depth=10, max_features=2, min_samples_leaf=3, min_samples_split=10; total time=   0.0s\n",
      "[CV] END criterion=gini, max_depth=10, max_features=2, min_samples_leaf=3, min_samples_split=8; total time=   0.0s\n",
      "[CV] END criterion=gini, max_depth=10, max_features=2, min_samples_leaf=3, min_samples_split=8; total time=   0.0s\n",
      "[CV] END criterion=gini, max_depth=10, max_features=2, min_samples_leaf=3, min_samples_split=8; total time=   0.0s\n",
      "[CV] END criterion=gini, max_depth=10, max_features=2, min_samples_leaf=3, min_samples_split=10; total time=   0.0s\n",
      "[CV] END criterion=gini, max_depth=10, max_features=2, min_samples_leaf=3, min_samples_split=12; total time=   0.0s\n",
      "[CV] END criterion=gini, max_depth=10, max_features=2, min_samples_leaf=3, min_samples_split=10; total time=   0.0s\n",
      "[CV] END criterion=gini, max_depth=10, max_features=2, min_samples_leaf=3, min_samples_split=12; total time=   0.0s\n",
      "[CV] END criterion=gini, max_depth=10, max_features=2, min_samples_leaf=3, min_samples_split=12; total time=   0.0s\n",
      "[CV] END criterion=gini, max_depth=10, max_features=2, min_samples_leaf=4, min_samples_split=8; total time=   0.0s\n",
      "[CV] END criterion=gini, max_depth=10, max_features=2, min_samples_leaf=4, min_samples_split=8; total time=   0.0s\n",
      "[CV] END criterion=gini, max_depth=10, max_features=2, min_samples_leaf=4, min_samples_split=8; total time=   0.0s\n",
      "[CV] END criterion=gini, max_depth=10, max_features=2, min_samples_leaf=4, min_samples_split=10; total time=   0.0s\n",
      "[CV] END criterion=gini, max_depth=10, max_features=2, min_samples_leaf=4, min_samples_split=10; total time=   0.0s\n",
      "[CV] END criterion=gini, max_depth=10, max_features=2, min_samples_leaf=4, min_samples_split=10; total time=   0.0s\n",
      "[CV] END criterion=gini, max_depth=10, max_features=2, min_samples_leaf=4, min_samples_split=12; total time=   0.0s\n",
      "[CV] END criterion=gini, max_depth=10, max_features=2, min_samples_leaf=4, min_samples_split=12; total time=   0.0s\n",
      "[CV] END criterion=gini, max_depth=10, max_features=2, min_samples_leaf=4, min_samples_split=12; total time=   0.0s\n",
      "[CV] END criterion=gini, max_depth=10, max_features=2, min_samples_leaf=5, min_samples_split=8; total time=   0.0s\n",
      "[CV] END criterion=gini, max_depth=10, max_features=2, min_samples_leaf=5, min_samples_split=8; total time=   0.0s\n",
      "[CV] END criterion=gini, max_depth=10, max_features=2, min_samples_leaf=5, min_samples_split=8; total time=   0.0s\n",
      "[CV] END criterion=gini, max_depth=10, max_features=2, min_samples_leaf=5, min_samples_split=10; total time=   0.0s\n",
      "[CV] END criterion=gini, max_depth=10, max_features=2, min_samples_leaf=5, min_samples_split=10; total time=   0.0s\n",
      "[CV] END criterion=gini, max_depth=10, max_features=2, min_samples_leaf=5, min_samples_split=10; total time=   0.0s\n",
      "[CV] END criterion=gini, max_depth=10, max_features=2, min_samples_leaf=5, min_samples_split=12; total time=   0.0s\n",
      "[CV] END criterion=gini, max_depth=10, max_features=2, min_samples_leaf=5, min_samples_split=12; total time=   0.0s\n",
      "[CV] END criterion=gini, max_depth=10, max_features=2, min_samples_leaf=5, min_samples_split=12; total time=   0.0s\n",
      "[CV] END criterion=gini, max_depth=10, max_features=3, min_samples_leaf=3, min_samples_split=8; total time=   0.0s\n",
      "[CV] END criterion=gini, max_depth=10, max_features=3, min_samples_leaf=3, min_samples_split=8; total time=   0.0s\n",
      "[CV] END criterion=gini, max_depth=10, max_features=3, min_samples_leaf=3, min_samples_split=8; total time=   0.0s\n",
      "[CV] END criterion=gini, max_depth=10, max_features=3, min_samples_leaf=3, min_samples_split=10; total time=   0.0s\n",
      "[CV] END criterion=gini, max_depth=10, max_features=3, min_samples_leaf=3, min_samples_split=10; total time=   0.0s\n",
      "[CV] END criterion=gini, max_depth=10, max_features=3, min_samples_leaf=3, min_samples_split=10; total time=   0.0s\n",
      "[CV] END criterion=gini, max_depth=10, max_features=3, min_samples_leaf=3, min_samples_split=12; total time=   0.0s\n",
      "[CV] END criterion=gini, max_depth=10, max_features=3, min_samples_leaf=3, min_samples_split=12; total time=   0.0s\n",
      "[CV] END criterion=gini, max_depth=10, max_features=3, min_samples_leaf=3, min_samples_split=12; total time=   0.0s\n",
      "[CV] END criterion=gini, max_depth=10, max_features=3, min_samples_leaf=4, min_samples_split=8; total time=   0.0s\n",
      "[CV] END criterion=gini, max_depth=10, max_features=3, min_samples_leaf=4, min_samples_split=8; total time=   0.0s\n",
      "[CV] END criterion=gini, max_depth=10, max_features=3, min_samples_leaf=4, min_samples_split=8; total time=   0.0s\n",
      "[CV] END criterion=gini, max_depth=10, max_features=3, min_samples_leaf=4, min_samples_split=10; total time=   0.0s\n",
      "[CV] END criterion=gini, max_depth=10, max_features=3, min_samples_leaf=4, min_samples_split=12; total time=   0.0s\n",
      "[CV] END criterion=gini, max_depth=10, max_features=3, min_samples_leaf=4, min_samples_split=10; total time=   0.0s\n",
      "[CV] END criterion=gini, max_depth=10, max_features=3, min_samples_leaf=4, min_samples_split=12; total time=   0.0s\n",
      "[CV] END criterion=gini, max_depth=10, max_features=3, min_samples_leaf=4, min_samples_split=12; total time=   0.0s\n",
      "[CV] END criterion=gini, max_depth=10, max_features=3, min_samples_leaf=4, min_samples_split=10; total time=   0.0s\n",
      "[CV] END criterion=gini, max_depth=10, max_features=3, min_samples_leaf=5, min_samples_split=8; total time=   0.0s\n",
      "[CV] END criterion=gini, max_depth=10, max_features=3, min_samples_leaf=5, min_samples_split=8; total time=   0.0s\n",
      "[CV] END criterion=gini, max_depth=10, max_features=3, min_samples_leaf=5, min_samples_split=10; total time=   0.0s\n",
      "[CV] END criterion=gini, max_depth=10, max_features=3, min_samples_leaf=5, min_samples_split=8; total time=   0.0s\n",
      "[CV] END criterion=gini, max_depth=10, max_features=3, min_samples_leaf=5, min_samples_split=10; total time=   0.0s\n",
      "[CV] END criterion=gini, max_depth=10, max_features=3, min_samples_leaf=5, min_samples_split=10; total time=   0.0s\n",
      "[CV] END criterion=gini, max_depth=10, max_features=3, min_samples_leaf=5, min_samples_split=12; total time=   0.0s\n",
      "[CV] END criterion=gini, max_depth=10, max_features=3, min_samples_leaf=5, min_samples_split=12; total time=   0.0s\n",
      "[CV] END criterion=gini, max_depth=20, max_features=2, min_samples_leaf=3, min_samples_split=12; total time=   0.0s\n",
      "[CV] END criterion=gini, max_depth=10, max_features=3, min_samples_leaf=5, min_samples_split=12; total time=   0.0s\n",
      "[CV] END criterion=gini, max_depth=20, max_features=2, min_samples_leaf=4, min_samples_split=8; total time=   0.0s\n",
      "[CV] END criterion=gini, max_depth=20, max_features=2, min_samples_leaf=3, min_samples_split=12; total time=   0.0s\n",
      "[CV] END criterion=gini, max_depth=20, max_features=2, min_samples_leaf=3, min_samples_split=8; total time=   0.0s\n",
      "[CV] END criterion=gini, max_depth=20, max_features=2, min_samples_leaf=3, min_samples_split=12; total time=   0.0s\n",
      "[CV] END criterion=gini, max_depth=20, max_features=2, min_samples_leaf=4, min_samples_split=8; total time=   0.0s\n",
      "[CV] END criterion=gini, max_depth=20, max_features=2, min_samples_leaf=3, min_samples_split=8; total time=   0.0s\n",
      "[CV] END criterion=gini, max_depth=20, max_features=2, min_samples_leaf=4, min_samples_split=8; total time=   0.0s\n",
      "[CV] END criterion=gini, max_depth=20, max_features=2, min_samples_leaf=4, min_samples_split=10; total time=   0.0s\n",
      "[CV] END criterion=gini, max_depth=20, max_features=2, min_samples_leaf=3, min_samples_split=8; total time=   0.0s\n",
      "[CV] END criterion=gini, max_depth=20, max_features=2, min_samples_leaf=4, min_samples_split=10; total time=   0.0s\n",
      "[CV] END criterion=gini, max_depth=20, max_features=2, min_samples_leaf=5, min_samples_split=8; total time=   0.0s\n",
      "[CV] END criterion=gini, max_depth=20, max_features=2, min_samples_leaf=4, min_samples_split=10; total time=   0.0s\n",
      "[CV] END criterion=gini, max_depth=20, max_features=2, min_samples_leaf=5, min_samples_split=8; total time=   0.0s\n",
      "[CV] END criterion=gini, max_depth=20, max_features=2, min_samples_leaf=5, min_samples_split=10; total time=   0.0s\n",
      "[CV] END criterion=gini, max_depth=20, max_features=2, min_samples_leaf=5, min_samples_split=8; total time=   0.0s\n",
      "[CV] END criterion=gini, max_depth=20, max_features=2, min_samples_leaf=4, min_samples_split=12; total time=   0.0s\n",
      "[CV] END criterion=gini, max_depth=20, max_features=2, min_samples_leaf=5, min_samples_split=10; total time=   0.0s\n",
      "[CV] END criterion=gini, max_depth=20, max_features=2, min_samples_leaf=3, min_samples_split=10; total time=   0.0s\n",
      "[CV] END criterion=gini, max_depth=20, max_features=2, min_samples_leaf=4, min_samples_split=12; total time=   0.0s\n",
      "[CV] END criterion=gini, max_depth=20, max_features=2, min_samples_leaf=3, min_samples_split=10; total time=   0.0s\n",
      "[CV] END criterion=gini, max_depth=20, max_features=2, min_samples_leaf=5, min_samples_split=12; total time=   0.0s\n",
      "[CV] END criterion=gini, max_depth=20, max_features=2, min_samples_leaf=4, min_samples_split=12; total time=   0.0s\n",
      "[CV] END criterion=gini, max_depth=20, max_features=2, min_samples_leaf=5, min_samples_split=10; total time=   0.0s\n",
      "[CV] END criterion=gini, max_depth=20, max_features=2, min_samples_leaf=3, min_samples_split=10; total time=   0.0s\n",
      "[CV] END criterion=gini, max_depth=20, max_features=3, min_samples_leaf=3, min_samples_split=8; total time=   0.0s\n",
      "[CV] END criterion=gini, max_depth=20, max_features=2, min_samples_leaf=5, min_samples_split=12; total time=   0.0s\n",
      "[CV] END criterion=gini, max_depth=20, max_features=3, min_samples_leaf=3, min_samples_split=8; total time=   0.0s\n",
      "[CV] END criterion=gini, max_depth=20, max_features=2, min_samples_leaf=5, min_samples_split=12; total time=   0.0s\n",
      "[CV] END criterion=gini, max_depth=20, max_features=3, min_samples_leaf=3, min_samples_split=8; total time=   0.0s\n",
      "[CV] END criterion=gini, max_depth=20, max_features=3, min_samples_leaf=3, min_samples_split=10; total time=   0.0s\n",
      "[CV] END criterion=gini, max_depth=20, max_features=3, min_samples_leaf=3, min_samples_split=10; total time=   0.0s\n",
      "[CV] END criterion=gini, max_depth=20, max_features=3, min_samples_leaf=4, min_samples_split=8; total time=   0.0s\n",
      "[CV] END criterion=gini, max_depth=20, max_features=3, min_samples_leaf=3, min_samples_split=10; total time=   0.0s\n",
      "[CV] END criterion=gini, max_depth=20, max_features=3, min_samples_leaf=4, min_samples_split=10; total time=   0.0s\n",
      "[CV] END criterion=gini, max_depth=20, max_features=3, min_samples_leaf=5, min_samples_split=8; total time=   0.0s\n",
      "[CV] END criterion=gini, max_depth=20, max_features=3, min_samples_leaf=3, min_samples_split=12; total time=   0.0s\n",
      "[CV] END criterion=gini, max_depth=20, max_features=3, min_samples_leaf=5, min_samples_split=8; total time=   0.0s\n",
      "[CV] END criterion=gini, max_depth=20, max_features=3, min_samples_leaf=3, min_samples_split=12; total time=   0.0s\n",
      "[CV] END criterion=gini, max_depth=30, max_features=2, min_samples_leaf=3, min_samples_split=8; total time=   0.0s\n",
      "[CV] END criterion=gini, max_depth=20, max_features=3, min_samples_leaf=5, min_samples_split=10; total time=   0.0s\n",
      "[CV] END criterion=gini, max_depth=20, max_features=3, min_samples_leaf=3, min_samples_split=12; total time=   0.0s\n",
      "[CV] END criterion=gini, max_depth=30, max_features=2, min_samples_leaf=3, min_samples_split=8; total time=   0.0s\n",
      "[CV] END criterion=gini, max_depth=20, max_features=3, min_samples_leaf=5, min_samples_split=10; total time=   0.0s\n",
      "[CV] END criterion=gini, max_depth=20, max_features=3, min_samples_leaf=4, min_samples_split=10; total time=   0.0s\n",
      "[CV] END criterion=gini, max_depth=30, max_features=2, min_samples_leaf=3, min_samples_split=8; total time=   0.0s\n",
      "[CV] END criterion=gini, max_depth=20, max_features=3, min_samples_leaf=5, min_samples_split=10; total time=   0.0s\n",
      "[CV] END criterion=gini, max_depth=30, max_features=2, min_samples_leaf=3, min_samples_split=10; total time=   0.0s\n",
      "[CV] END criterion=gini, max_depth=20, max_features=3, min_samples_leaf=5, min_samples_split=12; total time=   0.0s\n",
      "[CV] END criterion=gini, max_depth=30, max_features=2, min_samples_leaf=3, min_samples_split=10; total time=   0.0s\n",
      "[CV] END criterion=gini, max_depth=20, max_features=3, min_samples_leaf=4, min_samples_split=10; total time=   0.0s\n",
      "[CV] END criterion=gini, max_depth=20, max_features=3, min_samples_leaf=5, min_samples_split=12; total time=   0.0s\n",
      "[CV] END criterion=gini, max_depth=30, max_features=2, min_samples_leaf=3, min_samples_split=10; total time=   0.0s\n",
      "[CV] END criterion=gini, max_depth=20, max_features=3, min_samples_leaf=4, min_samples_split=8; total time=   0.0s\n",
      "[CV] END criterion=gini, max_depth=20, max_features=3, min_samples_leaf=5, min_samples_split=12; total time=   0.0s\n",
      "[CV] END criterion=gini, max_depth=30, max_features=2, min_samples_leaf=3, min_samples_split=12; total time=   0.0s\n",
      "[CV] END criterion=gini, max_depth=20, max_features=3, min_samples_leaf=4, min_samples_split=8; total time=   0.0s\n",
      "[CV] END criterion=gini, max_depth=30, max_features=2, min_samples_leaf=3, min_samples_split=12; total time=   0.0s\n",
      "[CV] END criterion=gini, max_depth=30, max_features=2, min_samples_leaf=3, min_samples_split=12; total time=   0.0s\n",
      "[CV] END criterion=gini, max_depth=30, max_features=2, min_samples_leaf=4, min_samples_split=12; total time=   0.0s\n",
      "[CV] END criterion=gini, max_depth=30, max_features=2, min_samples_leaf=4, min_samples_split=8; total time=   0.0s\n",
      "[CV] END criterion=gini, max_depth=20, max_features=3, min_samples_leaf=4, min_samples_split=12; total time=   0.0s\n",
      "[CV] END criterion=gini, max_depth=30, max_features=2, min_samples_leaf=4, min_samples_split=12; total time=   0.0s\n",
      "[CV] END criterion=gini, max_depth=30, max_features=2, min_samples_leaf=4, min_samples_split=8; total time=   0.0s\n",
      "[CV] END criterion=gini, max_depth=30, max_features=2, min_samples_leaf=5, min_samples_split=8; total time=   0.0s\n",
      "[CV] END criterion=gini, max_depth=30, max_features=2, min_samples_leaf=4, min_samples_split=8; total time=   0.0s\n",
      "[CV] END criterion=gini, max_depth=30, max_features=2, min_samples_leaf=5, min_samples_split=12; total time=   0.0s\n",
      "[CV] END criterion=gini, max_depth=30, max_features=2, min_samples_leaf=5, min_samples_split=8; total time=   0.0s\n",
      "[CV] END criterion=gini, max_depth=30, max_features=2, min_samples_leaf=4, min_samples_split=10; total time=   0.0s\n",
      "[CV] END criterion=gini, max_depth=30, max_features=2, min_samples_leaf=5, min_samples_split=12; total time=   0.0s\n",
      "[CV] END criterion=gini, max_depth=30, max_features=2, min_samples_leaf=4, min_samples_split=10; total time=   0.0s\n",
      "[CV] END criterion=gini, max_depth=30, max_features=2, min_samples_leaf=5, min_samples_split=12; total time=   0.0s\n",
      "[CV] END criterion=gini, max_depth=30, max_features=2, min_samples_leaf=5, min_samples_split=8; total time=   0.0s\n",
      "[CV] END criterion=gini, max_depth=30, max_features=2, min_samples_leaf=4, min_samples_split=10; total time=   0.0s\n",
      "[CV] END criterion=gini, max_depth=30, max_features=3, min_samples_leaf=3, min_samples_split=8; total time=   0.0s\n",
      "[CV] END criterion=gini, max_depth=30, max_features=2, min_samples_leaf=5, min_samples_split=10; total time=   0.0s\n",
      "[CV] END criterion=gini, max_depth=30, max_features=3, min_samples_leaf=3, min_samples_split=8; total time=   0.0s\n",
      "[CV] END criterion=gini, max_depth=30, max_features=2, min_samples_leaf=4, min_samples_split=12; total time=   0.0s\n",
      "[CV] END criterion=gini, max_depth=30, max_features=2, min_samples_leaf=5, min_samples_split=10; total time=   0.0s\n",
      "[CV] END criterion=gini, max_depth=30, max_features=3, min_samples_leaf=3, min_samples_split=8; total time=   0.0s\n",
      "[CV] END criterion=gini, max_depth=30, max_features=2, min_samples_leaf=5, min_samples_split=10; total time=   0.0s\n",
      "[CV] END criterion=gini, max_depth=30, max_features=3, min_samples_leaf=3, min_samples_split=10; total time=   0.0s\n",
      "[CV] END criterion=gini, max_depth=30, max_features=3, min_samples_leaf=3, min_samples_split=10; total time=   0.0s\n",
      "[CV] END criterion=gini, max_depth=20, max_features=3, min_samples_leaf=4, min_samples_split=12; total time=   0.0s\n",
      "[CV] END criterion=gini, max_depth=30, max_features=3, min_samples_leaf=3, min_samples_split=10; total time=   0.0s\n",
      "[CV] END criterion=gini, max_depth=30, max_features=3, min_samples_leaf=3, min_samples_split=12; total time=   0.0s\n",
      "[CV] END criterion=gini, max_depth=20, max_features=3, min_samples_leaf=4, min_samples_split=12; total time=   0.0s\n",
      "[CV] END criterion=gini, max_depth=30, max_features=3, min_samples_leaf=3, min_samples_split=12; total time=   0.0s\n",
      "[CV] END criterion=gini, max_depth=20, max_features=3, min_samples_leaf=5, min_samples_split=8; total time=   0.0s\n",
      "[CV] END criterion=gini, max_depth=30, max_features=3, min_samples_leaf=3, min_samples_split=12; total time=   0.0s\n",
      "[CV] END criterion=gini, max_depth=30, max_features=3, min_samples_leaf=4, min_samples_split=8; total time=   0.0s\n",
      "[CV] END criterion=gini, max_depth=30, max_features=3, min_samples_leaf=4, min_samples_split=8; total time=   0.0s\n",
      "[CV] END criterion=gini, max_depth=30, max_features=3, min_samples_leaf=4, min_samples_split=8; total time=   0.0s\n",
      "[CV] END criterion=gini, max_depth=30, max_features=3, min_samples_leaf=4, min_samples_split=10; total time=   0.0s\n",
      "[CV] END criterion=entropy, max_depth=10, max_features=2, min_samples_leaf=3, min_samples_split=8; total time=   0.0s[CV] END criterion=gini, max_depth=30, max_features=3, min_samples_leaf=4, min_samples_split=10; total time=   0.0s\n",
      "\n",
      "[CV] END criterion=gini, max_depth=30, max_features=3, min_samples_leaf=4, min_samples_split=10; total time=   0.0s\n",
      "[CV] END criterion=entropy, max_depth=10, max_features=2, min_samples_leaf=3, min_samples_split=10; total time=   0.0s\n",
      "[CV] END criterion=gini, max_depth=30, max_features=3, min_samples_leaf=4, min_samples_split=12; total time=   0.0s\n",
      "[CV] END criterion=entropy, max_depth=10, max_features=2, min_samples_leaf=5, min_samples_split=8; total time=   0.0s\n",
      "[CV] END criterion=entropy, max_depth=10, max_features=2, min_samples_leaf=3, min_samples_split=10; total time=   0.0s\n",
      "[CV] END criterion=gini, max_depth=30, max_features=3, min_samples_leaf=4, min_samples_split=12; total time=   0.0s\n",
      "[CV] END criterion=entropy, max_depth=10, max_features=2, min_samples_leaf=3, min_samples_split=10; total time=   0.0s\n",
      "[CV] END criterion=entropy, max_depth=10, max_features=2, min_samples_leaf=5, min_samples_split=8; total time=   0.0s\n",
      "[CV] END criterion=entropy, max_depth=10, max_features=2, min_samples_leaf=3, min_samples_split=12; total time=   0.0s\n",
      "[CV] END criterion=gini, max_depth=30, max_features=3, min_samples_leaf=4, min_samples_split=12; total time=   0.0s\n",
      "[CV] END criterion=entropy, max_depth=10, max_features=2, min_samples_leaf=5, min_samples_split=8; total time=   0.0s\n",
      "[CV] END criterion=entropy, max_depth=10, max_features=2, min_samples_leaf=3, min_samples_split=12; total time=   0.0s\n",
      "[CV] END criterion=entropy, max_depth=10, max_features=3, min_samples_leaf=3, min_samples_split=12; total time=   0.0s\n",
      "[CV] END criterion=entropy, max_depth=10, max_features=2, min_samples_leaf=5, min_samples_split=10; total time=   0.0s\n",
      "[CV] END criterion=entropy, max_depth=10, max_features=2, min_samples_leaf=3, min_samples_split=12; total time=   0.0s\n",
      "[CV] END criterion=entropy, max_depth=10, max_features=3, min_samples_leaf=3, min_samples_split=12; total time=   0.0s\n",
      "[CV] END criterion=entropy, max_depth=10, max_features=2, min_samples_leaf=4, min_samples_split=8; total time=   0.0s\n",
      "[CV] END criterion=entropy, max_depth=10, max_features=2, min_samples_leaf=5, min_samples_split=10; total time=   0.0s\n",
      "[CV] END criterion=entropy, max_depth=10, max_features=2, min_samples_leaf=4, min_samples_split=8; total time=   0.0s\n",
      "[CV] END criterion=entropy, max_depth=10, max_features=2, min_samples_leaf=5, min_samples_split=10; total time=   0.0s\n",
      "[CV] END criterion=entropy, max_depth=10, max_features=3, min_samples_leaf=4, min_samples_split=8; total time=   0.0s\n",
      "[CV] END criterion=entropy, max_depth=10, max_features=2, min_samples_leaf=4, min_samples_split=8; total time=   0.0s\n",
      "[CV] END criterion=entropy, max_depth=10, max_features=2, min_samples_leaf=5, min_samples_split=12; total time=   0.0s\n",
      "[CV] END criterion=entropy, max_depth=10, max_features=3, min_samples_leaf=4, min_samples_split=8; total time=   0.0s\n",
      "[CV] END criterion=entropy, max_depth=10, max_features=2, min_samples_leaf=4, min_samples_split=10; total time=   0.0s\n",
      "[CV] END criterion=entropy, max_depth=10, max_features=3, min_samples_leaf=4, min_samples_split=8; total time=   0.0s\n",
      "[CV] END criterion=entropy, max_depth=10, max_features=2, min_samples_leaf=5, min_samples_split=12; total time=   0.0s\n",
      "[CV] END criterion=entropy, max_depth=10, max_features=2, min_samples_leaf=4, min_samples_split=10; total time=   0.0s\n",
      "[CV] END criterion=entropy, max_depth=10, max_features=2, min_samples_leaf=5, min_samples_split=12; total time=   0.0s\n",
      "[CV] END criterion=gini, max_depth=30, max_features=3, min_samples_leaf=5, min_samples_split=8; total time=   0.0s\n",
      "[CV] END criterion=entropy, max_depth=10, max_features=3, min_samples_leaf=3, min_samples_split=8; total time=   0.0s\n",
      "[CV] END criterion=entropy, max_depth=10, max_features=2, min_samples_leaf=4, min_samples_split=10; total time=   0.0s\n",
      "[CV] END criterion=entropy, max_depth=10, max_features=2, min_samples_leaf=4, min_samples_split=12; total time=   0.0s\n",
      "[CV] END criterion=entropy, max_depth=10, max_features=3, min_samples_leaf=3, min_samples_split=8; total time=   0.0s\n",
      "[CV] END criterion=gini, max_depth=30, max_features=3, min_samples_leaf=5, min_samples_split=8; total time=   0.0s\n",
      "[CV] END criterion=entropy, max_depth=10, max_features=3, min_samples_leaf=3, min_samples_split=8; total time=   0.0s\n",
      "[CV] END criterion=entropy, max_depth=10, max_features=2, min_samples_leaf=4, min_samples_split=12; total time=   0.0s\n",
      "[CV] END criterion=entropy, max_depth=10, max_features=3, min_samples_leaf=4, min_samples_split=10; total time=   0.0s\n",
      "[CV] END criterion=gini, max_depth=30, max_features=3, min_samples_leaf=5, min_samples_split=8; total time=   0.0s\n",
      "[CV] END criterion=entropy, max_depth=10, max_features=2, min_samples_leaf=4, min_samples_split=12; total time=   0.0s\n",
      "[CV] END criterion=entropy, max_depth=10, max_features=3, min_samples_leaf=3, min_samples_split=10; total time=   0.0s\n",
      "[CV] END criterion=gini, max_depth=30, max_features=3, min_samples_leaf=5, min_samples_split=10; total time=   0.0s\n",
      "[CV] END criterion=entropy, max_depth=10, max_features=3, min_samples_leaf=4, min_samples_split=10; total time=   0.0s\n",
      "[CV] END criterion=entropy, max_depth=10, max_features=3, min_samples_leaf=3, min_samples_split=10; total time=   0.0s\n",
      "[CV] END criterion=gini, max_depth=30, max_features=3, min_samples_leaf=5, min_samples_split=10; total time=   0.0s\n",
      "[CV] END criterion=entropy, max_depth=10, max_features=3, min_samples_leaf=4, min_samples_split=10; total time=   0.0s\n",
      "[CV] END criterion=entropy, max_depth=10, max_features=3, min_samples_leaf=3, min_samples_split=10; total time=   0.0s\n",
      "[CV] END criterion=gini, max_depth=30, max_features=3, min_samples_leaf=5, min_samples_split=10; total time=   0.0s\n",
      "[CV] END criterion=entropy, max_depth=10, max_features=3, min_samples_leaf=3, min_samples_split=12; total time=   0.0s\n",
      "[CV] END criterion=entropy, max_depth=10, max_features=3, min_samples_leaf=5, min_samples_split=10; total time=   0.0s\n",
      "[CV] END criterion=entropy, max_depth=20, max_features=2, min_samples_leaf=4, min_samples_split=10; total time=   0.0s\n",
      "[CV] END criterion=entropy, max_depth=10, max_features=3, min_samples_leaf=5, min_samples_split=12; total time=   0.0s\n",
      "[CV] END criterion=gini, max_depth=30, max_features=3, min_samples_leaf=5, min_samples_split=12; total time=   0.0s\n",
      "[CV] END criterion=entropy, max_depth=20, max_features=2, min_samples_leaf=4, min_samples_split=10; total time=   0.0s\n",
      "[CV] END criterion=gini, max_depth=30, max_features=3, min_samples_leaf=5, min_samples_split=12; total time=   0.0s\n",
      "[CV] END criterion=entropy, max_depth=20, max_features=2, min_samples_leaf=4, min_samples_split=10; total time=   0.0s\n",
      "[CV] END criterion=entropy, max_depth=20, max_features=2, min_samples_leaf=4, min_samples_split=12; total time=   0.0s\n",
      "[CV] END criterion=entropy, max_depth=10, max_features=3, min_samples_leaf=5, min_samples_split=12; total time=   0.0s\n",
      "[CV] END criterion=entropy, max_depth=10, max_features=3, min_samples_leaf=5, min_samples_split=12; total time=   0.0s\n",
      "[CV] END criterion=entropy, max_depth=20, max_features=2, min_samples_leaf=3, min_samples_split=8; total time=   0.0s\n",
      "[CV] END criterion=entropy, max_depth=20, max_features=2, min_samples_leaf=3, min_samples_split=8; total time=   0.0s\n",
      "[CV] END criterion=gini, max_depth=30, max_features=3, min_samples_leaf=5, min_samples_split=12; total time=   0.0s\n",
      "[CV] END criterion=entropy, max_depth=10, max_features=2, min_samples_leaf=3, min_samples_split=8; total time=   0.0s\n",
      "[CV] END criterion=entropy, max_depth=10, max_features=2, min_samples_leaf=3, min_samples_split=8; total time=   0.0s\n",
      "[CV] END criterion=entropy, max_depth=10, max_features=3, min_samples_leaf=4, min_samples_split=12; total time=   0.1s\n",
      "[CV] END criterion=entropy, max_depth=10, max_features=3, min_samples_leaf=4, min_samples_split=12; total time=   0.0s\n",
      "[CV] END criterion=entropy, max_depth=20, max_features=3, min_samples_leaf=3, min_samples_split=8; total time=   0.0s\n",
      "[CV] END criterion=entropy, max_depth=10, max_features=3, min_samples_leaf=4, min_samples_split=12; total time=   0.0s\n",
      "[CV] END criterion=entropy, max_depth=20, max_features=2, min_samples_leaf=4, min_samples_split=12; total time=   0.0s\n",
      "[CV] END criterion=entropy, max_depth=10, max_features=3, min_samples_leaf=5, min_samples_split=8; total time=   0.0s\n",
      "[CV] END criterion=entropy, max_depth=20, max_features=2, min_samples_leaf=4, min_samples_split=12; total time=   0.0s\n",
      "[CV] END criterion=entropy, max_depth=10, max_features=3, min_samples_leaf=5, min_samples_split=8; total time=   0.0s\n",
      "[CV] END criterion=entropy, max_depth=20, max_features=3, min_samples_leaf=3, min_samples_split=8; total time=   0.0s\n",
      "[CV] END criterion=entropy, max_depth=20, max_features=2, min_samples_leaf=5, min_samples_split=8; total time=   0.0s\n",
      "[CV] END criterion=entropy, max_depth=10, max_features=3, min_samples_leaf=5, min_samples_split=8; total time=   0.0s\n",
      "[CV] END criterion=entropy, max_depth=20, max_features=3, min_samples_leaf=3, min_samples_split=10; total time=   0.0s\n",
      "[CV] END criterion=entropy, max_depth=10, max_features=3, min_samples_leaf=5, min_samples_split=10; total time=   0.0s\n",
      "[CV] END criterion=entropy, max_depth=20, max_features=2, min_samples_leaf=5, min_samples_split=8; total time=   0.0s\n",
      "[CV] END criterion=entropy, max_depth=10, max_features=3, min_samples_leaf=5, min_samples_split=10; total time=   0.0s\n",
      "[CV] END criterion=entropy, max_depth=20, max_features=3, min_samples_leaf=4, min_samples_split=12; total time=   0.0s\n",
      "[CV] END criterion=entropy, max_depth=20, max_features=2, min_samples_leaf=5, min_samples_split=8; total time=   0.0s\n",
      "[CV] END criterion=entropy, max_depth=20, max_features=3, min_samples_leaf=5, min_samples_split=8; total time=   0.0s\n",
      "[CV] END criterion=entropy, max_depth=20, max_features=2, min_samples_leaf=5, min_samples_split=10; total time=   0.0s\n",
      "[CV] END criterion=entropy, max_depth=20, max_features=3, min_samples_leaf=5, min_samples_split=8; total time=   0.0s\n",
      "[CV] END criterion=entropy, max_depth=20, max_features=3, min_samples_leaf=3, min_samples_split=10; total time=   0.0s\n",
      "[CV] END criterion=entropy, max_depth=20, max_features=2, min_samples_leaf=3, min_samples_split=8; total time=   0.0s\n",
      "[CV] END criterion=entropy, max_depth=20, max_features=3, min_samples_leaf=5, min_samples_split=8; total time=   0.0s\n",
      "[CV] END criterion=entropy, max_depth=20, max_features=3, min_samples_leaf=3, min_samples_split=10; total time=   0.0s\n",
      "[CV] END criterion=entropy, max_depth=20, max_features=2, min_samples_leaf=5, min_samples_split=10; total time=   0.0s\n",
      "[CV] END criterion=entropy, max_depth=20, max_features=3, min_samples_leaf=5, min_samples_split=10; total time=   0.0s\n",
      "[CV] END criterion=entropy, max_depth=20, max_features=2, min_samples_leaf=3, min_samples_split=10; total time=   0.0s\n",
      "[CV] END criterion=entropy, max_depth=20, max_features=3, min_samples_leaf=3, min_samples_split=12; total time=   0.0s\n",
      "[CV] END criterion=entropy, max_depth=20, max_features=2, min_samples_leaf=5, min_samples_split=10; total time=   0.0s\n",
      "[CV] END criterion=entropy, max_depth=20, max_features=3, min_samples_leaf=5, min_samples_split=10; total time=   0.0s\n",
      "[CV] END criterion=entropy, max_depth=20, max_features=3, min_samples_leaf=5, min_samples_split=10; total time=   0.0s\n",
      "[CV] END criterion=entropy, max_depth=20, max_features=3, min_samples_leaf=5, min_samples_split=12; total time=   0.0s\n",
      "[CV] END criterion=entropy, max_depth=20, max_features=3, min_samples_leaf=5, min_samples_split=12; total time=   0.0s\n",
      "[CV] END criterion=entropy, max_depth=20, max_features=3, min_samples_leaf=5, min_samples_split=12; total time=   0.0s\n",
      "[CV] END criterion=entropy, max_depth=20, max_features=3, min_samples_leaf=3, min_samples_split=12; total time=   0.0s\n",
      "[CV] END criterion=entropy, max_depth=20, max_features=2, min_samples_leaf=3, min_samples_split=10; total time=   0.0s\n",
      "[CV] END criterion=entropy, max_depth=30, max_features=2, min_samples_leaf=3, min_samples_split=8; total time=   0.0s\n",
      "[CV] END criterion=entropy, max_depth=30, max_features=2, min_samples_leaf=3, min_samples_split=8; total time=   0.0s\n",
      "[CV] END criterion=entropy, max_depth=20, max_features=3, min_samples_leaf=3, min_samples_split=12; total time=   0.0s\n",
      "[CV] END criterion=entropy, max_depth=20, max_features=2, min_samples_leaf=3, min_samples_split=10; total time=   0.0s\n",
      "[CV] END criterion=entropy, max_depth=30, max_features=2, min_samples_leaf=3, min_samples_split=8; total time=   0.0s\n",
      "[CV] END criterion=entropy, max_depth=20, max_features=2, min_samples_leaf=5, min_samples_split=12; total time=   0.0s\n",
      "[CV] END criterion=entropy, max_depth=20, max_features=2, min_samples_leaf=3, min_samples_split=12; total time=   0.0s\n",
      "[CV] END criterion=entropy, max_depth=20, max_features=3, min_samples_leaf=4, min_samples_split=8; total time=   0.0s\n",
      "[CV] END criterion=entropy, max_depth=20, max_features=2, min_samples_leaf=5, min_samples_split=12; total time=   0.0s\n",
      "[CV] END criterion=entropy, max_depth=20, max_features=3, min_samples_leaf=4, min_samples_split=8; total time=   0.0s\n",
      "[CV] END criterion=entropy, max_depth=30, max_features=2, min_samples_leaf=3, min_samples_split=10; total time=   0.0s\n",
      "[CV] END criterion=entropy, max_depth=20, max_features=2, min_samples_leaf=3, min_samples_split=12; total time=   0.0s\n",
      "[CV] END criterion=entropy, max_depth=20, max_features=3, min_samples_leaf=4, min_samples_split=8; total time=   0.0s\n",
      "[CV] END criterion=entropy, max_depth=20, max_features=2, min_samples_leaf=3, min_samples_split=12; total time=   0.0s\n",
      "[CV] END criterion=entropy, max_depth=20, max_features=2, min_samples_leaf=5, min_samples_split=12; total time=   0.0s\n",
      "[CV] END criterion=entropy, max_depth=20, max_features=3, min_samples_leaf=4, min_samples_split=10; total time=   0.0s\n",
      "[CV] END criterion=entropy, max_depth=30, max_features=2, min_samples_leaf=3, min_samples_split=10; total time=   0.0s\n",
      "[CV] END criterion=entropy, max_depth=20, max_features=2, min_samples_leaf=4, min_samples_split=8; total time=   0.0s\n",
      "[CV] END criterion=entropy, max_depth=20, max_features=3, min_samples_leaf=3, min_samples_split=8; total time=   0.0s\n",
      "[CV] END criterion=entropy, max_depth=20, max_features=2, min_samples_leaf=4, min_samples_split=8; total time=   0.0s\n",
      "[CV] END criterion=entropy, max_depth=20, max_features=3, min_samples_leaf=4, min_samples_split=10; total time=   0.0s\n",
      "[CV] END criterion=entropy, max_depth=30, max_features=2, min_samples_leaf=3, min_samples_split=12; total time=   0.0s\n",
      "[CV] END criterion=entropy, max_depth=20, max_features=2, min_samples_leaf=4, min_samples_split=8; total time=   0.0s\n",
      "[CV] END criterion=entropy, max_depth=20, max_features=3, min_samples_leaf=4, min_samples_split=10; total time=   0.0s\n",
      "[CV] END criterion=entropy, max_depth=20, max_features=3, min_samples_leaf=4, min_samples_split=12; total time=   0.0s\n",
      "[CV] END criterion=entropy, max_depth=30, max_features=2, min_samples_leaf=3, min_samples_split=12; total time=   0.0s\n",
      "[CV] END criterion=entropy, max_depth=30, max_features=2, min_samples_leaf=3, min_samples_split=12; total time=   0.0s\n",
      "[CV] END criterion=entropy, max_depth=20, max_features=3, min_samples_leaf=4, min_samples_split=12; total time=   0.0s\n",
      "[CV] END criterion=entropy, max_depth=30, max_features=2, min_samples_leaf=3, min_samples_split=10; total time=   0.0s\n",
      "[CV] END criterion=entropy, max_depth=30, max_features=2, min_samples_leaf=4, min_samples_split=8; total time=   0.0s\n",
      "[CV] END criterion=entropy, max_depth=30, max_features=2, min_samples_leaf=4, min_samples_split=8; total time=   0.0s\n",
      "[CV] END criterion=entropy, max_depth=30, max_features=2, min_samples_leaf=4, min_samples_split=8; total time=   0.0s\n",
      "[CV] END criterion=entropy, max_depth=30, max_features=2, min_samples_leaf=4, min_samples_split=10; total time=   0.0s\n",
      "[CV] END criterion=entropy, max_depth=30, max_features=2, min_samples_leaf=4, min_samples_split=10; total time=   0.0s\n",
      "[CV] END criterion=entropy, max_depth=30, max_features=2, min_samples_leaf=4, min_samples_split=10; total time=   0.0s\n",
      "[CV] END criterion=entropy, max_depth=30, max_features=2, min_samples_leaf=4, min_samples_split=12; total time=   0.0s\n",
      "[CV] END criterion=entropy, max_depth=30, max_features=2, min_samples_leaf=4, min_samples_split=12; total time=   0.0s\n",
      "[CV] END criterion=entropy, max_depth=30, max_features=2, min_samples_leaf=4, min_samples_split=12; total time=   0.0s\n",
      "[CV] END criterion=entropy, max_depth=30, max_features=2, min_samples_leaf=5, min_samples_split=8; total time=   0.0s\n",
      "[CV] END criterion=entropy, max_depth=30, max_features=2, min_samples_leaf=5, min_samples_split=8; total time=   0.0s\n",
      "[CV] END criterion=entropy, max_depth=30, max_features=2, min_samples_leaf=5, min_samples_split=8; total time=   0.0s\n",
      "[CV] END criterion=entropy, max_depth=30, max_features=2, min_samples_leaf=5, min_samples_split=10; total time=   0.0s\n",
      "[CV] END criterion=entropy, max_depth=30, max_features=2, min_samples_leaf=5, min_samples_split=10; total time=   0.0s\n",
      "[CV] END criterion=entropy, max_depth=30, max_features=2, min_samples_leaf=5, min_samples_split=10; total time=   0.0s\n",
      "[CV] END criterion=entropy, max_depth=30, max_features=2, min_samples_leaf=5, min_samples_split=12; total time=   0.0s\n",
      "[CV] END criterion=entropy, max_depth=30, max_features=2, min_samples_leaf=5, min_samples_split=12; total time=   0.0s\n",
      "[CV] END criterion=entropy, max_depth=30, max_features=2, min_samples_leaf=5, min_samples_split=12; total time=   0.0s\n",
      "[CV] END criterion=entropy, max_depth=30, max_features=3, min_samples_leaf=3, min_samples_split=8; total time=   0.0s\n",
      "[CV] END criterion=entropy, max_depth=30, max_features=3, min_samples_leaf=3, min_samples_split=8; total time=   0.0s\n",
      "[CV] END criterion=entropy, max_depth=30, max_features=3, min_samples_leaf=3, min_samples_split=8; total time=   0.0s\n",
      "[CV] END criterion=entropy, max_depth=30, max_features=3, min_samples_leaf=3, min_samples_split=10; total time=   0.0s\n",
      "[CV] END criterion=entropy, max_depth=30, max_features=3, min_samples_leaf=3, min_samples_split=10; total time=   0.0s\n",
      "[CV] END criterion=entropy, max_depth=30, max_features=3, min_samples_leaf=3, min_samples_split=10; total time=   0.0s\n",
      "[CV] END criterion=entropy, max_depth=30, max_features=3, min_samples_leaf=3, min_samples_split=12; total time=   0.0s\n",
      "[CV] END criterion=entropy, max_depth=30, max_features=3, min_samples_leaf=3, min_samples_split=12; total time=   0.0s\n",
      "[CV] END criterion=entropy, max_depth=30, max_features=3, min_samples_leaf=3, min_samples_split=12; total time=   0.0s\n",
      "[CV] END criterion=entropy, max_depth=30, max_features=3, min_samples_leaf=4, min_samples_split=8; total time=   0.0s\n",
      "[CV] END criterion=entropy, max_depth=30, max_features=3, min_samples_leaf=4, min_samples_split=8; total time=   0.0s\n",
      "[CV] END criterion=entropy, max_depth=30, max_features=3, min_samples_leaf=4, min_samples_split=8; total time=   0.0s\n",
      "[CV] END criterion=entropy, max_depth=30, max_features=3, min_samples_leaf=4, min_samples_split=10; total time=   0.0s\n",
      "[CV] END criterion=entropy, max_depth=30, max_features=3, min_samples_leaf=4, min_samples_split=10; total time=   0.0s\n",
      "[CV] END criterion=entropy, max_depth=30, max_features=3, min_samples_leaf=4, min_samples_split=10; total time=   0.0s\n",
      "[CV] END criterion=entropy, max_depth=30, max_features=3, min_samples_leaf=4, min_samples_split=12; total time=   0.0s\n",
      "[CV] END criterion=entropy, max_depth=30, max_features=3, min_samples_leaf=4, min_samples_split=12; total time=   0.0s\n",
      "[CV] END criterion=entropy, max_depth=30, max_features=3, min_samples_leaf=4, min_samples_split=12; total time=   0.0s\n",
      "[CV] END criterion=entropy, max_depth=30, max_features=3, min_samples_leaf=5, min_samples_split=8; total time=   0.0s\n",
      "[CV] END criterion=entropy, max_depth=30, max_features=3, min_samples_leaf=5, min_samples_split=8; total time=   0.0s\n",
      "[CV] END criterion=entropy, max_depth=30, max_features=3, min_samples_leaf=5, min_samples_split=8; total time=   0.0s\n",
      "[CV] END criterion=entropy, max_depth=30, max_features=3, min_samples_leaf=5, min_samples_split=10; total time=   0.0s\n",
      "[CV] END criterion=entropy, max_depth=30, max_features=3, min_samples_leaf=5, min_samples_split=10; total time=   0.0s\n",
      "[CV] END criterion=entropy, max_depth=30, max_features=3, min_samples_leaf=5, min_samples_split=10; total time=   0.0s\n",
      "[CV] END criterion=entropy, max_depth=30, max_features=3, min_samples_leaf=5, min_samples_split=12; total time=   0.0s\n",
      "[CV] END criterion=entropy, max_depth=30, max_features=3, min_samples_leaf=5, min_samples_split=12; total time=   0.0s\n",
      "[CV] END criterion=entropy, max_depth=30, max_features=3, min_samples_leaf=5, min_samples_split=12; total time=   0.0s\n",
      "{'criterion': 'gini', 'max_depth': 10, 'max_features': 2, 'min_samples_leaf': 4, 'min_samples_split': 12}\n",
      "DecisionTreeClassifier(max_depth=10, max_features=2, min_samples_leaf=4,\n",
      "                       min_samples_split=12)\n"
     ]
    }
   ],
   "source": [
    "# decision tree model tuning\n",
    "from sklearn.model_selection import GridSearchCV, RandomizedSearchCV\n",
    "\n",
    "# Create the parameter grid based on the results of random search\n",
    "param_grid = {\n",
    "    'max_depth': [10, 20, 30],\n",
    "    'max_features': [2, 3],\n",
    "    'min_samples_leaf': [3, 4, 5],\n",
    "    'min_samples_split': [8, 10, 12],\n",
    "    'criterion': ['gini', 'entropy']\n",
    "}\n",
    "\n",
    "grid = GridSearchCV(estimator = Dtree, param_grid = param_grid, cv = 3, n_jobs = -1, verbose = 2)\n",
    "grid.fit(X_train, y_train)\n",
    "\n",
    "# print best parameter after tuning\n",
    "print(grid.best_params_)"
   ]
  },
  {
   "cell_type": "code",
   "execution_count": 32,
   "metadata": {},
   "outputs": [
    {
     "name": "stdout",
     "output_type": "stream",
     "text": [
      "0.9007597340930674\n",
      "{'criterion': 'gini', 'max_depth': 10, 'max_features': 2, 'min_samples_leaf': 4, 'min_samples_split': 12}\n"
     ]
    }
   ],
   "source": [
    "print(grid.best_score_)\n",
    "print(grid.best_params_)"
   ]
  },
  {
   "cell_type": "code",
   "execution_count": 33,
   "metadata": {},
   "outputs": [
    {
     "data": {
      "text/html": [
       "<style>#sk-container-id-3 {color: black;background-color: white;}#sk-container-id-3 pre{padding: 0;}#sk-container-id-3 div.sk-toggleable {background-color: white;}#sk-container-id-3 label.sk-toggleable__label {cursor: pointer;display: block;width: 100%;margin-bottom: 0;padding: 0.3em;box-sizing: border-box;text-align: center;}#sk-container-id-3 label.sk-toggleable__label-arrow:before {content: \"▸\";float: left;margin-right: 0.25em;color: #696969;}#sk-container-id-3 label.sk-toggleable__label-arrow:hover:before {color: black;}#sk-container-id-3 div.sk-estimator:hover label.sk-toggleable__label-arrow:before {color: black;}#sk-container-id-3 div.sk-toggleable__content {max-height: 0;max-width: 0;overflow: hidden;text-align: left;background-color: #f0f8ff;}#sk-container-id-3 div.sk-toggleable__content pre {margin: 0.2em;color: black;border-radius: 0.25em;background-color: #f0f8ff;}#sk-container-id-3 input.sk-toggleable__control:checked~div.sk-toggleable__content {max-height: 200px;max-width: 100%;overflow: auto;}#sk-container-id-3 input.sk-toggleable__control:checked~label.sk-toggleable__label-arrow:before {content: \"▾\";}#sk-container-id-3 div.sk-estimator input.sk-toggleable__control:checked~label.sk-toggleable__label {background-color: #d4ebff;}#sk-container-id-3 div.sk-label input.sk-toggleable__control:checked~label.sk-toggleable__label {background-color: #d4ebff;}#sk-container-id-3 input.sk-hidden--visually {border: 0;clip: rect(1px 1px 1px 1px);clip: rect(1px, 1px, 1px, 1px);height: 1px;margin: -1px;overflow: hidden;padding: 0;position: absolute;width: 1px;}#sk-container-id-3 div.sk-estimator {font-family: monospace;background-color: #f0f8ff;border: 1px dotted black;border-radius: 0.25em;box-sizing: border-box;margin-bottom: 0.5em;}#sk-container-id-3 div.sk-estimator:hover {background-color: #d4ebff;}#sk-container-id-3 div.sk-parallel-item::after {content: \"\";width: 100%;border-bottom: 1px solid gray;flex-grow: 1;}#sk-container-id-3 div.sk-label:hover label.sk-toggleable__label {background-color: #d4ebff;}#sk-container-id-3 div.sk-serial::before {content: \"\";position: absolute;border-left: 1px solid gray;box-sizing: border-box;top: 0;bottom: 0;left: 50%;z-index: 0;}#sk-container-id-3 div.sk-serial {display: flex;flex-direction: column;align-items: center;background-color: white;padding-right: 0.2em;padding-left: 0.2em;position: relative;}#sk-container-id-3 div.sk-item {position: relative;z-index: 1;}#sk-container-id-3 div.sk-parallel {display: flex;align-items: stretch;justify-content: center;background-color: white;position: relative;}#sk-container-id-3 div.sk-item::before, #sk-container-id-3 div.sk-parallel-item::before {content: \"\";position: absolute;border-left: 1px solid gray;box-sizing: border-box;top: 0;bottom: 0;left: 50%;z-index: -1;}#sk-container-id-3 div.sk-parallel-item {display: flex;flex-direction: column;z-index: 1;position: relative;background-color: white;}#sk-container-id-3 div.sk-parallel-item:first-child::after {align-self: flex-end;width: 50%;}#sk-container-id-3 div.sk-parallel-item:last-child::after {align-self: flex-start;width: 50%;}#sk-container-id-3 div.sk-parallel-item:only-child::after {width: 0;}#sk-container-id-3 div.sk-dashed-wrapped {border: 1px dashed gray;margin: 0 0.4em 0.5em 0.4em;box-sizing: border-box;padding-bottom: 0.4em;background-color: white;}#sk-container-id-3 div.sk-label label {font-family: monospace;font-weight: bold;display: inline-block;line-height: 1.2em;}#sk-container-id-3 div.sk-label-container {text-align: center;}#sk-container-id-3 div.sk-container {/* jupyter's `normalize.less` sets `[hidden] { display: none; }` but bootstrap.min.css set `[hidden] { display: none !important; }` so we also need the `!important` here to be able to override the default hidden behavior on the sphinx rendered scikit-learn.org. See: https://github.com/scikit-learn/scikit-learn/issues/21755 */display: inline-block !important;position: relative;}#sk-container-id-3 div.sk-text-repr-fallback {display: none;}</style><div id=\"sk-container-id-3\" class=\"sk-top-container\"><div class=\"sk-text-repr-fallback\"><pre>DecisionTreeClassifier(max_depth=10, max_features=2, min_samples_leaf=4,\n",
       "                       min_samples_split=12)</pre><b>In a Jupyter environment, please rerun this cell to show the HTML representation or trust the notebook. <br />On GitHub, the HTML representation is unable to render, please try loading this page with nbviewer.org.</b></div><div class=\"sk-container\" hidden><div class=\"sk-item\"><div class=\"sk-estimator sk-toggleable\"><input class=\"sk-toggleable__control sk-hidden--visually\" id=\"sk-estimator-id-3\" type=\"checkbox\" checked><label for=\"sk-estimator-id-3\" class=\"sk-toggleable__label sk-toggleable__label-arrow\">DecisionTreeClassifier</label><div class=\"sk-toggleable__content\"><pre>DecisionTreeClassifier(max_depth=10, max_features=2, min_samples_leaf=4,\n",
       "                       min_samples_split=12)</pre></div></div></div></div></div>"
      ],
      "text/plain": [
       "DecisionTreeClassifier(max_depth=10, max_features=2, min_samples_leaf=4,\n",
       "                       min_samples_split=12)"
      ]
     },
     "execution_count": 33,
     "metadata": {},
     "output_type": "execute_result"
    }
   ],
   "source": [
    "# Decision Tree with best parameters\n",
    "Dtree_tuned = DecisionTreeClassifier(criterion='gini', max_depth=10, max_features=2, min_samples_leaf=4, min_samples_split=12)\n",
    "Dtree_tuned.fit(X_train, y_train)"
   ]
  },
  {
   "cell_type": "code",
   "execution_count": 35,
   "metadata": {},
   "outputs": [
    {
     "name": "stdout",
     "output_type": "stream",
     "text": [
      "Accuracy: \n",
      " 0.8\n",
      "\n",
      "Confusion Matrix: \n",
      " [[7 1]\n",
      " [3 9]]\n",
      "\n",
      "ROC Curve: \n",
      " <sklearn.metrics._plot.roc_curve.RocCurveDisplay object at 0x7fe1344fef70>\n",
      "\n",
      "ROC AUC Score: \n",
      " 0.8125\n",
      "\n",
      "Classification Report: \n",
      "               precision    recall  f1-score   support\n",
      "\n",
      "           0       0.70      0.88      0.78         8\n",
      "           1       0.90      0.75      0.82        12\n",
      "\n",
      "    accuracy                           0.80        20\n",
      "   macro avg       0.80      0.81      0.80        20\n",
      "weighted avg       0.82      0.80      0.80        20\n",
      "\n"
     ]
    },
    {
     "data": {
      "image/png": "[encoded data removed]",
      "text/plain": [
       "<Figure size 432x288 with 1 Axes>"
      ]
     },
     "metadata": {},
     "output_type": "display_data"
    }
   ],
   "source": [
    "# evaluate the model\n",
    "y_pred_tree_tuned = Dtree_tuned.predict(X_test)\n",
    "\n",
    "# Accuracy\n",
    "print(\"Accuracy: \\n\", accuracy_score(y_test, y_pred_tree_tuned))\n",
    "\n",
    "# confusion matrix\n",
    "print(\"\\nConfusion Matrix: \\n\", confusion_matrix(y_test, y_pred_tree_tuned))\n",
    "\n",
    "# roc curve\n",
    "print(\"\\nROC Curve: \\n\", plot_roc_curve(Dtree_tuned, X_test, y_test))\n",
    "\n",
    "# roc_auc_score\n",
    "print(\"\\nROC AUC Score: \\n\", roc_auc_score(y_test, y_pred_tree_tuned))\n",
    "\n",
    "# classification report\n",
    "print(\"\\nClassification Report: \\n\", classification_report(y_test, y_pred_tree_tuned))\n"
   ]
  },
  {
   "cell_type": "markdown",
   "metadata": {},
   "source": [
    "## Random Forest"
   ]
  },
  {
   "cell_type": "code",
   "execution_count": 38,
   "metadata": {},
   "outputs": [
    {
     "data": {
      "text/html": [
       "<style>#sk-container-id-4 {color: black;background-color: white;}#sk-container-id-4 pre{padding: 0;}#sk-container-id-4 div.sk-toggleable {background-color: white;}#sk-container-id-4 label.sk-toggleable__label {cursor: pointer;display: block;width: 100%;margin-bottom: 0;padding: 0.3em;box-sizing: border-box;text-align: center;}#sk-container-id-4 label.sk-toggleable__label-arrow:before {content: \"▸\";float: left;margin-right: 0.25em;color: #696969;}#sk-container-id-4 label.sk-toggleable__label-arrow:hover:before {color: black;}#sk-container-id-4 div.sk-estimator:hover label.sk-toggleable__label-arrow:before {color: black;}#sk-container-id-4 div.sk-toggleable__content {max-height: 0;max-width: 0;overflow: hidden;text-align: left;background-color: #f0f8ff;}#sk-container-id-4 div.sk-toggleable__content pre {margin: 0.2em;color: black;border-radius: 0.25em;background-color: #f0f8ff;}#sk-container-id-4 input.sk-toggleable__control:checked~div.sk-toggleable__content {max-height: 200px;max-width: 100%;overflow: auto;}#sk-container-id-4 input.sk-toggleable__control:checked~label.sk-toggleable__label-arrow:before {content: \"▾\";}#sk-container-id-4 div.sk-estimator input.sk-toggleable__control:checked~label.sk-toggleable__label {background-color: #d4ebff;}#sk-container-id-4 div.sk-label input.sk-toggleable__control:checked~label.sk-toggleable__label {background-color: #d4ebff;}#sk-container-id-4 input.sk-hidden--visually {border: 0;clip: rect(1px 1px 1px 1px);clip: rect(1px, 1px, 1px, 1px);height: 1px;margin: -1px;overflow: hidden;padding: 0;position: absolute;width: 1px;}#sk-container-id-4 div.sk-estimator {font-family: monospace;background-color: #f0f8ff;border: 1px dotted black;border-radius: 0.25em;box-sizing: border-box;margin-bottom: 0.5em;}#sk-container-id-4 div.sk-estimator:hover {background-color: #d4ebff;}#sk-container-id-4 div.sk-parallel-item::after {content: \"\";width: 100%;border-bottom: 1px solid gray;flex-grow: 1;}#sk-container-id-4 div.sk-label:hover label.sk-toggleable__label {background-color: #d4ebff;}#sk-container-id-4 div.sk-serial::before {content: \"\";position: absolute;border-left: 1px solid gray;box-sizing: border-box;top: 0;bottom: 0;left: 50%;z-index: 0;}#sk-container-id-4 div.sk-serial {display: flex;flex-direction: column;align-items: center;background-color: white;padding-right: 0.2em;padding-left: 0.2em;position: relative;}#sk-container-id-4 div.sk-item {position: relative;z-index: 1;}#sk-container-id-4 div.sk-parallel {display: flex;align-items: stretch;justify-content: center;background-color: white;position: relative;}#sk-container-id-4 div.sk-item::before, #sk-container-id-4 div.sk-parallel-item::before {content: \"\";position: absolute;border-left: 1px solid gray;box-sizing: border-box;top: 0;bottom: 0;left: 50%;z-index: -1;}#sk-container-id-4 div.sk-parallel-item {display: flex;flex-direction: column;z-index: 1;position: relative;background-color: white;}#sk-container-id-4 div.sk-parallel-item:first-child::after {align-self: flex-end;width: 50%;}#sk-container-id-4 div.sk-parallel-item:last-child::after {align-self: flex-start;width: 50%;}#sk-container-id-4 div.sk-parallel-item:only-child::after {width: 0;}#sk-container-id-4 div.sk-dashed-wrapped {border: 1px dashed gray;margin: 0 0.4em 0.5em 0.4em;box-sizing: border-box;padding-bottom: 0.4em;background-color: white;}#sk-container-id-4 div.sk-label label {font-family: monospace;font-weight: bold;display: inline-block;line-height: 1.2em;}#sk-container-id-4 div.sk-label-container {text-align: center;}#sk-container-id-4 div.sk-container {/* jupyter's `normalize.less` sets `[hidden] { display: none; }` but bootstrap.min.css set `[hidden] { display: none !important; }` so we also need the `!important` here to be able to override the default hidden behavior on the sphinx rendered scikit-learn.org. See: https://github.com/scikit-learn/scikit-learn/issues/21755 */display: inline-block !important;position: relative;}#sk-container-id-4 div.sk-text-repr-fallback {display: none;}</style><div id=\"sk-container-id-4\" class=\"sk-top-container\"><div class=\"sk-text-repr-fallback\"><pre>RandomForestClassifier()</pre><b>In a Jupyter environment, please rerun this cell to show the HTML representation or trust the notebook. <br />On GitHub, the HTML representation is unable to render, please try loading this page with nbviewer.org.</b></div><div class=\"sk-container\" hidden><div class=\"sk-item\"><div class=\"sk-estimator sk-toggleable\"><input class=\"sk-toggleable__control sk-hidden--visually\" id=\"sk-estimator-id-4\" type=\"checkbox\" checked><label for=\"sk-estimator-id-4\" class=\"sk-toggleable__label sk-toggleable__label-arrow\">RandomForestClassifier</label><div class=\"sk-toggleable__content\"><pre>RandomForestClassifier()</pre></div></div></div></div></div>"
      ],
      "text/plain": [
       "RandomForestClassifier()"
      ]
     },
     "execution_count": 38,
     "metadata": {},
     "output_type": "execute_result"
    }
   ],
   "source": [
    "from sklearn.ensemble import RandomForestClassifier\n",
    "\n",
    "Rforest = RandomForestClassifier()\n",
    "Rforest.fit(X_train, y_train)"
   ]
  },
  {
   "cell_type": "code",
   "execution_count": 39,
   "metadata": {},
   "outputs": [
    {
     "name": "stdout",
     "output_type": "stream",
     "text": [
      "Accuracy: \n",
      " 0.85\n",
      "\n",
      "Confusion Matrix: \n",
      " [[8 0]\n",
      " [3 9]]\n",
      "\n",
      "ROC Curve: \n",
      " <sklearn.metrics._plot.roc_curve.RocCurveDisplay object at 0x7fe1389f9280>\n",
      "\n",
      "ROC AUC Score: \n",
      " 0.875\n",
      "\n",
      "Classification Report: \n",
      "               precision    recall  f1-score   support\n",
      "\n",
      "           0       0.73      1.00      0.84         8\n",
      "           1       1.00      0.75      0.86        12\n",
      "\n",
      "    accuracy                           0.85        20\n",
      "   macro avg       0.86      0.88      0.85        20\n",
      "weighted avg       0.89      0.85      0.85        20\n",
      "\n"
     ]
    },
    {
     "data": {
      "image/png": "[encoded data removed]",
      "text/plain": [
       "<Figure size 432x288 with 1 Axes>"
      ]
     },
     "metadata": {},
     "output_type": "display_data"
    }
   ],
   "source": [
    "# evaluate the model\n",
    "y_pred_forest = Rforest.predict(X_test)\n",
    "\n",
    "# Accuracy\n",
    "print(\"Accuracy: \\n\", accuracy_score(y_test, y_pred_forest))\n",
    "\n",
    "# confusion matrix\n",
    "print(\"\\nConfusion Matrix: \\n\", confusion_matrix(y_test, y_pred_forest))\n",
    "\n",
    "# roc curve\n",
    "print(\"\\nROC Curve: \\n\", plot_roc_curve(Rforest, X_test, y_test))\n",
    "\n",
    "# roc_auc_score\n",
    "print(\"\\nROC AUC Score: \\n\", roc_auc_score(y_test, y_pred_forest))\n",
    "\n",
    "# classification report\n",
    "print(\"\\nClassification Report: \\n\", classification_report(y_test, y_pred_forest))"
   ]
  },
  {
   "cell_type": "code",
   "execution_count": null,
   "metadata": {},
   "outputs": [],
   "source": [
    "# Random Forest model tuning\n",
    "\n",
    "param_grid = {\n",
    "    'max_depth': [10, 20, 30],\n",
    "    'max_features': [2, 3],\n",
    "    'min_samples_leaf': [3, 4, 5],\n",
    "    'min_samples_split': [8, 10, 12],\n",
    "    \n",
    "}\n",
    "\n",
    "grid_forest = GridSearchCV(estimator = Rforest, param_grid = param_grid, cv = 3, n_jobs = -1, verbose = 2)\n",
    "grid_forest.fit(X_train, y_train)"
   ]
  },
  {
   "cell_type": "code",
   "execution_count": 41,
   "metadata": {},
   "outputs": [
    {
     "name": "stdout",
     "output_type": "stream",
     "text": [
      "0.9377967711301044\n",
      "{'criterion': 'gini', 'max_depth': 10, 'max_features': 2, 'min_samples_leaf': 3, 'min_samples_split': 10}\n"
     ]
    }
   ],
   "source": [
    "# print best parameter after tuning\n",
    "print(grid_forest.best_score_)\n",
    "print(grid_forest.best_params_)"
   ]
  },
  {
   "cell_type": "code",
   "execution_count": 42,
   "metadata": {},
   "outputs": [
    {
     "data": {
      "text/html": [
       "<style>#sk-container-id-6 {color: black;background-color: white;}#sk-container-id-6 pre{padding: 0;}#sk-container-id-6 div.sk-toggleable {background-color: white;}#sk-container-id-6 label.sk-toggleable__label {cursor: pointer;display: block;width: 100%;margin-bottom: 0;padding: 0.3em;box-sizing: border-box;text-align: center;}#sk-container-id-6 label.sk-toggleable__label-arrow:before {content: \"▸\";float: left;margin-right: 0.25em;color: #696969;}#sk-container-id-6 label.sk-toggleable__label-arrow:hover:before {color: black;}#sk-container-id-6 div.sk-estimator:hover label.sk-toggleable__label-arrow:before {color: black;}#sk-container-id-6 div.sk-toggleable__content {max-height: 0;max-width: 0;overflow: hidden;text-align: left;background-color: #f0f8ff;}#sk-container-id-6 div.sk-toggleable__content pre {margin: 0.2em;color: black;border-radius: 0.25em;background-color: #f0f8ff;}#sk-container-id-6 input.sk-toggleable__control:checked~div.sk-toggleable__content {max-height: 200px;max-width: 100%;overflow: auto;}#sk-container-id-6 input.sk-toggleable__control:checked~label.sk-toggleable__label-arrow:before {content: \"▾\";}#sk-container-id-6 div.sk-estimator input.sk-toggleable__control:checked~label.sk-toggleable__label {background-color: #d4ebff;}#sk-container-id-6 div.sk-label input.sk-toggleable__control:checked~label.sk-toggleable__label {background-color: #d4ebff;}#sk-container-id-6 input.sk-hidden--visually {border: 0;clip: rect(1px 1px 1px 1px);clip: rect(1px, 1px, 1px, 1px);height: 1px;margin: -1px;overflow: hidden;padding: 0;position: absolute;width: 1px;}#sk-container-id-6 div.sk-estimator {font-family: monospace;background-color: #f0f8ff;border: 1px dotted black;border-radius: 0.25em;box-sizing: border-box;margin-bottom: 0.5em;}#sk-container-id-6 div.sk-estimator:hover {background-color: #d4ebff;}#sk-container-id-6 div.sk-parallel-item::after {content: \"\";width: 100%;border-bottom: 1px solid gray;flex-grow: 1;}#sk-container-id-6 div.sk-label:hover label.sk-toggleable__label {background-color: #d4ebff;}#sk-container-id-6 div.sk-serial::before {content: \"\";position: absolute;border-left: 1px solid gray;box-sizing: border-box;top: 0;bottom: 0;left: 50%;z-index: 0;}#sk-container-id-6 div.sk-serial {display: flex;flex-direction: column;align-items: center;background-color: white;padding-right: 0.2em;padding-left: 0.2em;position: relative;}#sk-container-id-6 div.sk-item {position: relative;z-index: 1;}#sk-container-id-6 div.sk-parallel {display: flex;align-items: stretch;justify-content: center;background-color: white;position: relative;}#sk-container-id-6 div.sk-item::before, #sk-container-id-6 div.sk-parallel-item::before {content: \"\";position: absolute;border-left: 1px solid gray;box-sizing: border-box;top: 0;bottom: 0;left: 50%;z-index: -1;}#sk-container-id-6 div.sk-parallel-item {display: flex;flex-direction: column;z-index: 1;position: relative;background-color: white;}#sk-container-id-6 div.sk-parallel-item:first-child::after {align-self: flex-end;width: 50%;}#sk-container-id-6 div.sk-parallel-item:last-child::after {align-self: flex-start;width: 50%;}#sk-container-id-6 div.sk-parallel-item:only-child::after {width: 0;}#sk-container-id-6 div.sk-dashed-wrapped {border: 1px dashed gray;margin: 0 0.4em 0.5em 0.4em;box-sizing: border-box;padding-bottom: 0.4em;background-color: white;}#sk-container-id-6 div.sk-label label {font-family: monospace;font-weight: bold;display: inline-block;line-height: 1.2em;}#sk-container-id-6 div.sk-label-container {text-align: center;}#sk-container-id-6 div.sk-container {/* jupyter's `normalize.less` sets `[hidden] { display: none; }` but bootstrap.min.css set `[hidden] { display: none !important; }` so we also need the `!important` here to be able to override the default hidden behavior on the sphinx rendered scikit-learn.org. See: https://github.com/scikit-learn/scikit-learn/issues/21755 */display: inline-block !important;position: relative;}#sk-container-id-6 div.sk-text-repr-fallback {display: none;}</style><div id=\"sk-container-id-6\" class=\"sk-top-container\"><div class=\"sk-text-repr-fallback\"><pre>RandomForestClassifier(max_depth=10, max_features=2, min_samples_leaf=3,\n",
       "                       min_samples_split=10)</pre><b>In a Jupyter environment, please rerun this cell to show the HTML representation or trust the notebook. <br />On GitHub, the HTML representation is unable to render, please try loading this page with nbviewer.org.</b></div><div class=\"sk-container\" hidden><div class=\"sk-item\"><div class=\"sk-estimator sk-toggleable\"><input class=\"sk-toggleable__control sk-hidden--visually\" id=\"sk-estimator-id-8\" type=\"checkbox\" checked><label for=\"sk-estimator-id-8\" class=\"sk-toggleable__label sk-toggleable__label-arrow\">RandomForestClassifier</label><div class=\"sk-toggleable__content\"><pre>RandomForestClassifier(max_depth=10, max_features=2, min_samples_leaf=3,\n",
       "                       min_samples_split=10)</pre></div></div></div></div></div>"
      ],
      "text/plain": [
       "RandomForestClassifier(max_depth=10, max_features=2, min_samples_leaf=3,\n",
       "                       min_samples_split=10)"
      ]
     },
     "execution_count": 42,
     "metadata": {},
     "output_type": "execute_result"
    }
   ],
   "source": [
    "# Random Forest with best parameters\n",
    "Rforest_tuned = RandomForestClassifier(criterion='gini', max_depth=10, max_features=2, min_samples_leaf=3, min_samples_split=10)\n",
    "Rforest_tuned.fit(X_train, y_train)"
   ]
  },
  {
   "cell_type": "code",
   "execution_count": 43,
   "metadata": {},
   "outputs": [
    {
     "name": "stdout",
     "output_type": "stream",
     "text": [
      "Accuracy: \n",
      " 0.75\n",
      "\n",
      "Confusion Matrix: \n",
      " [[7 1]\n",
      " [4 8]]\n",
      "\n",
      "ROC Curve: \n",
      " <sklearn.metrics._plot.roc_curve.RocCurveDisplay object at 0x7fe13867bd60>\n",
      "\n",
      "ROC AUC Score: \n",
      " 0.7708333333333333\n",
      "\n",
      "Classification Report: \n",
      "               precision    recall  f1-score   support\n",
      "\n",
      "           0       0.64      0.88      0.74         8\n",
      "           1       0.89      0.67      0.76        12\n",
      "\n",
      "    accuracy                           0.75        20\n",
      "   macro avg       0.76      0.77      0.75        20\n",
      "weighted avg       0.79      0.75      0.75        20\n",
      "\n"
     ]
    },
    {
     "data": {
      "image/png": "[encoded data removed]",
      "text/plain": [
       "<Figure size 432x288 with 1 Axes>"
      ]
     },
     "metadata": {},
     "output_type": "display_data"
    }
   ],
   "source": [
    "y_pred_forest_tuned = Rforest_tuned.predict(X_test)\n",
    "\n",
    "# Accuracy\n",
    "print(\"Accuracy: \\n\", accuracy_score(y_test, y_pred_forest_tuned))\n",
    "\n",
    "# confusion matrix\n",
    "print(\"\\nConfusion Matrix: \\n\", confusion_matrix(y_test, y_pred_forest_tuned))\n",
    "\n",
    "# roc curve\n",
    "print(\"\\nROC Curve: \\n\", plot_roc_curve(Rforest_tuned, X_test, y_test))\n",
    "\n",
    "# roc_auc_score\n",
    "print(\"\\nROC AUC Score: \\n\", roc_auc_score(y_test, y_pred_forest_tuned))\n",
    "\n",
    "# classification report\n",
    "print(\"\\nClassification Report: \\n\", classification_report(y_test, y_pred_forest_tuned))\n"
   ]
  },
  {
   "cell_type": "markdown",
   "metadata": {},
   "source": [
    "## KNN Classifier"
   ]
  },
  {
   "cell_type": "code",
   "execution_count": null,
   "metadata": {},
   "outputs": [],
   "source": [
    "from sklearn.model_selection import KNN"
   ]
  },
  {
   "cell_type": "code",
   "execution_count": null,
   "metadata": {},
   "outputs": [],
   "source": []
  },
  {
   "cell_type": "markdown",
   "metadata": {},
   "source": [
    "## Evaluation"
   ]
  },
  {
   "cell_type": "code",
   "execution_count": 15,
   "metadata": {},
   "outputs": [
    {
     "data": {
      "text/plain": [
       "array([1])"
      ]
     },
     "execution_count": 15,
     "metadata": {},
     "output_type": "execute_result"
    }
   ],
   "source": [
    "# predicting when given a student with 45 in Exam 1 and 85 in Exam 2\n",
    "log_reg.predict([[45, 85]])"
   ]
  },
  {
   "cell_type": "code",
   "execution_count": 51,
   "metadata": {},
   "outputs": [
    {
     "data": {
      "text/plain": [
       "array([[0.35538061, 0.64461939]])"
      ]
     },
     "execution_count": 51,
     "metadata": {},
     "output_type": "execute_result"
    }
   ],
   "source": [
    "log_reg.predict_proba([[45, 85]])"
   ]
  },
  {
   "cell_type": "code",
   "execution_count": 16,
   "metadata": {},
   "outputs": [
    {
     "name": "stdout",
     "output_type": "stream",
     "text": [
      "probability of Student not being admitted  0.35538061042393776\n",
      "probability of Student being admitted  0.6446193895760622\n"
     ]
    }
   ],
   "source": [
    "# print the probabilties of the student being admitted \n",
    "print(\"probability of Student not being admitted \",log_reg.predict_proba([[45, 85]])[0][0])\n",
    "print(\"probability of Student being admitted \",log_reg.predict_proba([[45, 85]])[0][1])"
   ]
  },
  {
   "cell_type": "code",
   "execution_count": 17,
   "metadata": {},
   "outputs": [
    {
     "data": {
      "text/plain": [
       "array([1, 0, 0, 0, 0, 0, 0, 1, 0, 0, 1, 1, 1, 1, 1, 1, 1, 1, 1, 1])"
      ]
     },
     "execution_count": 17,
     "metadata": {},
     "output_type": "execute_result"
    }
   ],
   "source": [
    "# Predicting the test set results\n",
    "y_pred = log_reg.predict(X_test)\n",
    "y_test"
   ]
  },
  {
   "cell_type": "code",
   "execution_count": 18,
   "metadata": {},
   "outputs": [
    {
     "data": {
      "text/plain": [
       "0.8"
      ]
     },
     "execution_count": 18,
     "metadata": {},
     "output_type": "execute_result"
    }
   ],
   "source": [
    "# score of the model\n",
    "log_reg.score(X_test, y_test)"
   ]
  },
  {
   "cell_type": "code",
   "execution_count": 19,
   "metadata": {},
   "outputs": [
    {
     "data": {
      "text/plain": [
       "array([[7, 1],\n",
       "       [3, 9]])"
      ]
     },
     "execution_count": 19,
     "metadata": {},
     "output_type": "execute_result"
    }
   ],
   "source": [
    "# visualization with confusion matrix\n",
    "from sklearn.metrics import confusion_matrix\n",
    "cm_matrix = confusion_matrix(y_test, y_pred)\n",
    "cm_matrix"
   ]
  },
  {
   "cell_type": "code",
   "execution_count": 20,
   "metadata": {},
   "outputs": [
    {
     "data": {
      "image/png": "[encoded data removed]",
      "text/plain": [
       "<Figure size 432x360 with 1 Axes>"
      ]
     },
     "metadata": {},
     "output_type": "display_data"
    }
   ],
   "source": [
    "# visualizing the confusion matrix\n",
    "fig , ax = plt.subplots(figsize=(6,5))\n",
    "#labels = ['True Neg','False Pos','False Neg','True Pos']\n",
    "sns.heatmap(cm_matrix, annot=True, fmt='d', cmap='Blues',ax=ax, \n",
    "xticklabels=['Not Admitted', 'Admitted'], yticklabels=['Not Admitted', 'Admitted'], cbar=False)\n",
    "\n",
    "plt.title('Confusion Matrix',fontsize=18)\n",
    "plt.xlabel('Predicted Values',fontsize=14)\n",
    "plt.ylabel('True Values',fontsize=14)\n",
    "plt.show()"
   ]
  },
  {
   "cell_type": "markdown",
   "metadata": {},
   "source": [
    "##### Formula for Accuracy is given by $$\\frac{TP+TN}{TP+TN+FP+FN}$$"
   ]
  },
  {
   "cell_type": "code",
   "execution_count": 21,
   "metadata": {},
   "outputs": [
    {
     "data": {
      "text/plain": [
       "0.8"
      ]
     },
     "execution_count": 21,
     "metadata": {},
     "output_type": "execute_result"
    }
   ],
   "source": [
    "# calculate the accuracy\n",
    "accuracy = (cm_matrix[0][0] + cm_matrix[1][1]) / (cm_matrix[0][0] + cm_matrix[0][1] + cm_matrix[1][0] + cm_matrix[1][1])\n",
    "accuracy"
   ]
  },
  {
   "cell_type": "markdown",
   "metadata": {},
   "source": [
    "##### Formula for Precision is given by $$\\frac{TP}{TP+FP}$$"
   ]
  },
  {
   "cell_type": "code",
   "execution_count": 22,
   "metadata": {},
   "outputs": [
    {
     "data": {
      "text/plain": [
       "0.9"
      ]
     },
     "execution_count": 22,
     "metadata": {},
     "output_type": "execute_result"
    }
   ],
   "source": [
    "# calculate the precision\n",
    "precision = cm_matrix[1][1] / (cm_matrix[1][1] + cm_matrix[0][1])\n",
    "precision"
   ]
  },
  {
   "cell_type": "markdown",
   "metadata": {},
   "source": [
    "##### Formula for Recall is given by $$\\frac{TP}{TP+FN}$$"
   ]
  },
  {
   "cell_type": "code",
   "execution_count": 23,
   "metadata": {},
   "outputs": [
    {
     "data": {
      "text/plain": [
       "0.75"
      ]
     },
     "execution_count": 23,
     "metadata": {},
     "output_type": "execute_result"
    }
   ],
   "source": [
    "# calculate the recall\n",
    "recall = cm_matrix[1][1] / (cm_matrix[1][1] + cm_matrix[1][0])\n",
    "recall"
   ]
  },
  {
   "cell_type": "markdown",
   "metadata": {},
   "source": [
    "#### F1 score formula is given by $$\\frac{2*Precision*Recall}{Precision+Recall}$$"
   ]
  },
  {
   "cell_type": "code",
   "execution_count": 24,
   "metadata": {},
   "outputs": [
    {
     "data": {
      "text/plain": [
       "0.8470588235294118"
      ]
     },
     "execution_count": 24,
     "metadata": {},
     "output_type": "execute_result"
    }
   ],
   "source": [
    "# calculate the F1 score\n",
    "f1_score = 2 * (precision * accuracy) / (precision + accuracy)\n",
    "f1_score"
   ]
  },
  {
   "cell_type": "markdown",
   "metadata": {},
   "source": [
    "## Analysis"
   ]
  },
  {
   "cell_type": "markdown",
   "metadata": {},
   "source": [
    "##### a. What do you think about the performance of this model?"
   ]
  },
  {
   "cell_type": "code",
   "execution_count": 30,
   "metadata": {},
   "outputs": [],
   "source": [
    "# The model performs relatively well with very high accuracy of 0.85, precision of 0.9 and recall of 0.75. The F1 score is also high with 0.85."
   ]
  },
  {
   "cell_type": "markdown",
   "metadata": {},
   "source": [
    "##### b. Do you think the linear decision boundary fits the model?"
   ]
  },
  {
   "cell_type": "code",
   "execution_count": 28,
   "metadata": {},
   "outputs": [],
   "source": [
    "# The linear decision boundary is not a perfect fit for the data. \n",
    "# The data is not linearly separable."
   ]
  },
  {
   "cell_type": "markdown",
   "metadata": {},
   "source": [
    "##### c. What could you do to improve the performance of the model?"
   ]
  },
  {
   "cell_type": "code",
   "execution_count": 29,
   "metadata": {},
   "outputs": [],
   "source": [
    "# The model could be tuned by using regularization to reduce overfitting.\n",
    "# Other models could be used to see if they perform better."
   ]
  }
 ],
 "metadata": {
  "kernelspec": {
   "display_name": "Python 3.9.7 ('data')",
   "language": "python",
   "name": "python3"
  },
  "language_info": {
   "codemirror_mode": {
    "name": "ipython",
    "version": 3
   },
   "file_extension": ".py",
   "mimetype": "text/x-python",
   "name": "python",
   "nbconvert_exporter": "python",
   "pygments_lexer": "ipython3",
   "version": "3.9.7"
  },
  "orig_nbformat": 4,
  "vscode": {
   "interpreter": {
    "hash": "4b5221f7fd568601ffb692ded55cc6a8f9f720c6422993e13b3964f3c2d5ea0a"
   }
  }
 },
 "nbformat": 4,
 "nbformat_minor": 2
}
